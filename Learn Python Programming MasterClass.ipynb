{
 "cells": [
  {
   "cell_type": "markdown",
   "metadata": {},
   "source": [
    "1.##write a program that requests a number from the keyboard then prints out it sbinary representaions\n",
    "obiviously you could use a format string but tha is not allowed forthis challenge the program should cater for numbers upto 65535 i.e  2**16 - 1 \n",
    "hint: you will need interege division (//) and modulo(%) operator to get the remainder you will also need ** to raise one number to the power of anither:\n",
    "for eg: 2 ** 8 raises 2 to power 8\n",
    "as an optional extra avoid printing leading zeros.\n",
    "once the program is working correctly modify it to print octal rather than binary"
   ]
  },
  {
   "cell_type": "code",
   "execution_count": null,
   "metadata": {},
   "outputs": [],
   "source": [
    "powers = []\n",
    "for power in range(15, -1, -1):\n",
    "    powers.append(8**power)\n",
    "powers"
   ]
  },
  {
   "cell_type": "code",
   "execution_count": null,
   "metadata": {},
   "outputs": [],
   "source": [
    "x = int(input(\"plese enter a number: \"))\n",
    "for power in powers:\n",
    "    print(x // power, end='')\n",
    "    x %= power\n"
   ]
  },
  {
   "cell_type": "code",
   "execution_count": null,
   "metadata": {},
   "outputs": [],
   "source": [
    "x = int(input(\"plese enter a number: \"))\n",
    "printing = False\n",
    "for power in powers:\n",
    "    bit = x // power\n",
    "    if bit != 0:\n",
    "        printing = True\n",
    "    if printing:\n",
    "        print(bit, end='')\n",
    "    x %=power"
   ]
  },
  {
   "cell_type": "markdown",
   "metadata": {},
   "source": [
    "## DICTIONARIES and SETS\n",
    "\n",
    "#SETS: sets are similiar to list , unordered, \n",
    "#Dictionary: values are accessed using a key"
   ]
  },
  {
   "cell_type": "code",
   "execution_count": null,
   "metadata": {},
   "outputs": [],
   "source": [
    "fruit = {'orange': \"a sweet, orange, citrus fruit\",\n",
    "        'apple': \"good for health, good cider\",\n",
    "        'lemon': 'a small, sweet fruit'}\n",
    "\n",
    "fruit"
   ]
  },
  {
   "cell_type": "code",
   "execution_count": null,
   "metadata": {},
   "outputs": [],
   "source": [
    "fruit['lemon']"
   ]
  },
  {
   "cell_type": "code",
   "execution_count": null,
   "metadata": {},
   "outputs": [],
   "source": [
    "car = {\"make\": 'honda', \"model\": 'sonata', \"color\": \"black\", \"engine_size\": 1000}\n",
    "car"
   ]
  },
  {
   "cell_type": "code",
   "execution_count": null,
   "metadata": {},
   "outputs": [],
   "source": [
    "car['engine_size']"
   ]
  },
  {
   "cell_type": "code",
   "execution_count": null,
   "metadata": {},
   "outputs": [],
   "source": [
    "car['color']"
   ]
  },
  {
   "cell_type": "code",
   "execution_count": null,
   "metadata": {},
   "outputs": [],
   "source": [
    "car[\"run\"] = \"very less\"\n",
    "car"
   ]
  },
  {
   "cell_type": "code",
   "execution_count": null,
   "metadata": {},
   "outputs": [],
   "source": [
    "car[\"run\": \"very less\"]\n",
    "car"
   ]
  },
  {
   "cell_type": "code",
   "execution_count": null,
   "metadata": {
    "scrolled": true
   },
   "outputs": [],
   "source": [
    "while True:\n",
    "    dict_key = input(\"please enter a fruit: \")\n",
    "    if dict_key ==\"quit\":\n",
    "        break\n",
    "    if dict_key in fruit:\n",
    "            description = fruit.get(dict_key)\n",
    "            print(description)\n",
    "    else:\n",
    "                print(\"we dont have a \" + dict_key)"
   ]
  },
  {
   "cell_type": "code",
   "execution_count": null,
   "metadata": {},
   "outputs": [],
   "source": [
    "fruit = {\"orange\": \"a sweet, sweet fruit, I eat every day\",\n",
    "        \"apple\": \"an apple a day keeps doc away\",\n",
    "        \"lime\": \"you can make paneer\",\n",
    "        \"lemon\": \"really citrus\"}\n",
    "fruit"
   ]
  },
  {
   "cell_type": "code",
   "execution_count": null,
   "metadata": {},
   "outputs": [],
   "source": [
    "for i in range (10):\n",
    "    for snack in fruit:\n",
    "        print(snack + \" is \" + fruit[snack])\n",
    "        print('-' * 40)"
   ]
  },
  {
   "cell_type": "markdown",
   "metadata": {},
   "source": [
    "##IMPROVISED:"
   ]
  },
  {
   "cell_type": "code",
   "execution_count": null,
   "metadata": {},
   "outputs": [],
   "source": [
    "ordered_keys = list(fruit.keys())\n",
    "ordered_keys.sort()\n",
    "for f in ordered_keys:\n",
    "    print(f + \" _ \" + fruit[f])"
   ]
  },
  {
   "cell_type": "code",
   "execution_count": null,
   "metadata": {},
   "outputs": [],
   "source": [
    "ordered_keys = sorted(list(fruit.keys()))\n",
    "for f in ordered_keys:\n",
    "    print(f + ' - ' + fruit[f])"
   ]
  },
  {
   "cell_type": "code",
   "execution_count": null,
   "metadata": {},
   "outputs": [],
   "source": [
    "for f in sorted(fruit.keys()):\n",
    "    print(f + \" - \" + fruit[f])"
   ]
  },
  {
   "cell_type": "code",
   "execution_count": null,
   "metadata": {},
   "outputs": [],
   "source": [
    "for val in fruit.values():\n",
    "    print(val)\n",
    "print('-' * 40)\n",
    "\n",
    "for val in fruit.values():\n",
    "    print(fruit.keys)"
   ]
  },
  {
   "cell_type": "code",
   "execution_count": null,
   "metadata": {},
   "outputs": [],
   "source": [
    "print(fruit)"
   ]
  },
  {
   "cell_type": "code",
   "execution_count": null,
   "metadata": {},
   "outputs": [],
   "source": [
    "print(fruit.items())"
   ]
  },
  {
   "cell_type": "code",
   "execution_count": null,
   "metadata": {},
   "outputs": [],
   "source": [
    "f_tuple = tuple(fruit.items())\n",
    "f_tuple"
   ]
  },
  {
   "cell_type": "code",
   "execution_count": null,
   "metadata": {},
   "outputs": [],
   "source": [
    "print(dict(f_tuple))"
   ]
  },
  {
   "cell_type": "code",
   "execution_count": null,
   "metadata": {},
   "outputs": [],
   "source": [
    "mylist = ['a','b','c','d']\n",
    "letters = \"abcdefghijklmnopqrstuvwxyz\"\n",
    "numbers = \"1234567890\"\n",
    "newstring = ', '.join(letters)\n",
    "newstring\n"
   ]
  },
  {
   "cell_type": "code",
   "execution_count": 1,
   "metadata": {},
   "outputs": [
    {
     "name": "stdout",
     "output_type": "stream",
     "text": [
      "You are standing at the end of a road before a small brick buuilding\n",
      "You are standing at the end of a road before a small brick buuilding\n",
      "You are standing at the end of a road before a small brick buuilding\n",
      "You are standing at the end of a road before a small brick buuilding\n",
      "You are standing at the end of a road before a small brick buuilding\n",
      "Available exists are W, E, N, S, Q, W\n",
      "\n",
      "You are at the top of a hill\n",
      "You are at the top of a hill\n",
      "Available exists are N, Q, n\n",
      "\n",
      "You are in the forest\n",
      "You are in the forest\n",
      "You are in the forest\n",
      "Available exists are W, S, Q, w\n",
      "\n",
      "You are at the top of a hill\n",
      "You are at the top of a hill\n",
      "Available exists are N, Q, q\n",
      "\n",
      "You are sitting in front of a computer learning python\n"
     ]
    }
   ],
   "source": [
    "locations = { 0: \"You are sitting in front of a computer learning python\",\n",
    "              1: \"You are standing at the end of a road before a small brick buuilding\",\n",
    "              2: \"You are at the top of a hill\",\n",
    "              3: \"You are inside a building, a well house for a small stream\",\n",
    "              4: \"You are in a valley beside a stream\",\n",
    "              5: \"You are in the forest\"}\n",
    "\n",
    "exists = {0: {\"Q\": 0},\n",
    "          1: {\"W\": 2, \"E\": 3, \"N\": 5, \"S\": 4, \"Q\": 0},\n",
    "          2: {\"N\": 5, \"Q\": 0},\n",
    "          3: {\"W\": 1, \"Q\": 0},\n",
    "          4: {\"N\": 5, \"W\": 2, \"Q\": 0},\n",
    "          5: {\"W\": 2, \"S\": 1, \"Q\": 0}}\n",
    "\n",
    "vocabulary = { \"QUIT\": \"Q\",\n",
    "               \"NORTH\": \"N\",\n",
    "               \"SOUTH\": \"S\",\n",
    "               \"EAST\": \"E\",\n",
    "               \"WEST\": \"W\"}\n",
    "loc = 1\n",
    "while True:\n",
    "    availableExists = \" \"\n",
    "    for directions in exists[loc].keys():\n",
    "        availableExists += directions+ \", \"\n",
    "        print(locations[loc])\n",
    "    if loc == 0:\n",
    "        break\n",
    "    direction = input(\"Available exists are\" + availableExists).upper()\n",
    "    print()\n",
    "    if direction in exists[loc]:\n",
    "        loc = exists[loc][direction]\n",
    "    else:\n",
    "        print(\"You cannot go in that direction\")\n"
   ]
  },
  {
   "cell_type": "code",
   "execution_count": 4,
   "metadata": {},
   "outputs": [
    {
     "name": "stdout",
     "output_type": "stream",
     "text": [
      "You are standing at the end of a road before a small brick buuilding\n",
      "Available exists are Q,  W\n",
      "\n",
      "You are at the top of a hill\n",
      "Available exists are Q,  N\n",
      "\n",
      "You are in the forest\n",
      "Available exists are Q,  Q\n",
      "\n",
      "You are sitting in front of a computer learning python\n"
     ]
    }
   ],
   "source": [
    "locations = { 0: \"You are sitting in front of a computer learning python\",\n",
    "              1: \"You are standing at the end of a road before a small brick buuilding\",\n",
    "              2: \"You are at the top of a hill\",\n",
    "              3: \"You are inside a building, a well house for a small stream\",\n",
    "              4: \"You are in a valley beside a stream\",\n",
    "              5: \"You are in the forest\"}\n",
    "\n",
    "exists = {0: {\"Q\": 0},\n",
    "          1: {\"W\": 2, \"E\": 3, \"N\": 5, \"S\": 4, \"Q\": 0},\n",
    "          2: {\"N\": 5, \"Q\": 0},\n",
    "          3: {\"W\": 1, \"Q\": 0},\n",
    "          4: {\"N\": 5, \"W\": 2, \"Q\": 0},\n",
    "          5: {\"W\": 2, \"S\": 1, \"Q\": 0}}\n",
    "\n",
    "vocabulary = { \"QUIT\": \"Q\",\n",
    "               \"NORTH\": \"N\",\n",
    "               \"SOUTH\": \"S\",\n",
    "               \"EAST\": \"E\",\n",
    "               \"WEST\": \"W\"}\n",
    "loc = 1\n",
    "while True:\n",
    "    availabeExisits = \", \".join(exists[loc].keys())\n",
    "    print(locations[loc])\n",
    "    \n",
    "    if loc == 0:\n",
    "        break\n",
    "    direction = input(\"Available exists are\" + availableExists + \" \").upper()\n",
    "    print()\n",
    "    if len(direction) > 1:\n",
    "        wordes = dricetion.split()\n",
    "        for word in words:\n",
    "            if word in vocabulary:\n",
    "                direction = vocabulary[word]\n",
    "                break\n",
    "    if direction in exists[loc]:\n",
    "        loc = exists[loc][direction]\n",
    "    else:\n",
    "        print(\"you cannot go in that direction\")\n",
    "            \n",
    "    "
   ]
  },
  {
   "cell_type": "code",
   "execution_count": 6,
   "metadata": {},
   "outputs": [
    {
     "data": {
      "text/plain": [
       "{'Cabbage': 'every chiles fav',\n",
       " ' Sprouts': 'mmm, lovely',\n",
       " 'spinach': ' can I have some morre fruit',\n",
       " 'orange': 'a sweet, sweet fruit, I eat every day',\n",
       " 'apple': 'an apple a day keeps doc away',\n",
       " 'lime': 'you can make paneer',\n",
       " 'lemon': 'really citrus'}"
      ]
     },
     "execution_count": 6,
     "metadata": {},
     "output_type": "execute_result"
    }
   ],
   "source": [
    "fruit = {\"orange\": \"a sweet, sweet fruit, I eat every day\",\n",
    "        \"apple\": \"an apple a day keeps doc away\",\n",
    "        \"lime\": \"you can make paneer\",\n",
    "        \"lemon\": \"really citrus\"}\n",
    "fruit\n",
    "\n",
    "veg = { \"Cabbage\": \"every chiles fav\",\n",
    "           \" Sprouts\": \"mmm, lovely\",\n",
    "          \"spinach\": \" can I have some morre fruit\"}\n",
    "veg\n",
    "\n",
    "veg.update(fruit)\n",
    "veg"
   ]
  },
  {
   "cell_type": "code",
   "execution_count": 7,
   "metadata": {},
   "outputs": [],
   "source": [
    "nice_nasty = fruit.copy()"
   ]
  },
  {
   "cell_type": "code",
   "execution_count": 8,
   "metadata": {},
   "outputs": [
    {
     "data": {
      "text/plain": [
       "{'orange': 'a sweet, sweet fruit, I eat every day',\n",
       " 'apple': 'an apple a day keeps doc away',\n",
       " 'lime': 'you can make paneer',\n",
       " 'lemon': 'really citrus',\n",
       " 'Cabbage': 'every chiles fav',\n",
       " ' Sprouts': 'mmm, lovely',\n",
       " 'spinach': ' can I have some morre fruit'}"
      ]
     },
     "execution_count": 8,
     "metadata": {},
     "output_type": "execute_result"
    }
   ],
   "source": [
    "nice_nasty.update(veg)\n",
    "nice_nasty"
   ]
  },
  {
   "cell_type": "code",
   "execution_count": 9,
   "metadata": {},
   "outputs": [
    {
     "data": {
      "text/plain": [
       "{'Cabbage': 'every chiles fav',\n",
       " ' Sprouts': 'mmm, lovely',\n",
       " 'spinach': ' can I have some morre fruit',\n",
       " 'orange': 'a sweet, sweet fruit, I eat every day',\n",
       " 'apple': 'an apple a day keeps doc away',\n",
       " 'lime': 'you can make paneer',\n",
       " 'lemon': 'really citrus'}"
      ]
     },
     "execution_count": 9,
     "metadata": {},
     "output_type": "execute_result"
    }
   ],
   "source": [
    "veg"
   ]
  },
  {
   "cell_type": "code",
   "execution_count": 10,
   "metadata": {},
   "outputs": [
    {
     "data": {
      "text/plain": [
       "{'orange': 'a sweet, sweet fruit, I eat every day',\n",
       " 'apple': 'an apple a day keeps doc away',\n",
       " 'lime': 'you can make paneer',\n",
       " 'lemon': 'really citrus'}"
      ]
     },
     "execution_count": 10,
     "metadata": {},
     "output_type": "execute_result"
    }
   ],
   "source": [
    "fruit"
   ]
  },
  {
   "cell_type": "code",
   "execution_count": null,
   "metadata": {},
   "outputs": [],
   "source": [
    "locations = { 0: \"You are sitting in front of a computer learning python\",\n",
    "              1: \"You are standing at the end of a road before a small brick buuilding\",\n",
    "              2: \"You are at the top of a hill\",\n",
    "              3: \"You are inside a building, a well house for a small stream\",\n",
    "              4: \"You are in a valley beside a stream\",\n",
    "              5: \"You are in the forest\"}\n",
    "\n",
    "exists = {0: {\"Q\": 0},\n",
    "          1: {\"W\": 2,\"2\":2, \"E\": 3,\"3\":3,  \"N\": 5, \"5\": 5, \"S\": 4, \"4\": 4, \"Q\": 0},\n",
    "          2: {\"N\": 5, \"5\": 5, \"Q\": 0},\n",
    "          3: {\"W\": 1, \"1\": 1, \"Q\": 0},\n",
    "          4: {\"N\": 5, \"5\": 5, \"W\": 2, \"2\": 2, \"Q\": 0},\n",
    "          5: {\"W\": 2, \"2\": 2, \"S\": 1, \"1\": 1, \"Q\": 0}}\n",
    "\n",
    "vocabulary = { \"QUIT\": \"Q\",\n",
    "               \"NORTH\": \"N\",\n",
    "               \"SOUTH\": \"S\",\n",
    "               \"EAST\": \"E\",\n",
    "               \"WEST\": \"W\",\n",
    "               \"ROAD\": \"1\",\n",
    "               \"HILL\":\"2\",\n",
    "               \"BUILDING\": \"3\",\n",
    "               \"VALLEY\": \"4\",\n",
    "               \"FOREST\": \"5\"}\n",
    "loc = 1\n",
    "while True:\n",
    "    availableExists = \", \".join(exists[loc].keys())\n",
    "    print(locations[loc])\n",
    "    \n",
    "    if loc == 0:\n",
    "        break\n",
    "    direction = input(\"Available exists are \" + availableExists + \" \").upper()\n",
    "    print()\n",
    "    if len(direction) > 1:\n",
    "        wordes = direction.split()\n",
    "        for word in words:\n",
    "            if word in vocabulary:\n",
    "                direction = vocabulary[word]\n",
    "                break\n",
    "    if direction in exists[loc]:\n",
    "        loc = exists[loc][direction]\n",
    "    else:\n",
    "        print(\"you cannot go in that direction\")\n",
    "            \n",
    "    "
   ]
  },
  {
   "cell_type": "code",
   "execution_count": null,
   "metadata": {},
   "outputs": [],
   "source": []
  }
 ],
 "metadata": {
  "kernelspec": {
   "display_name": "Python 3",
   "language": "python",
   "name": "python3"
  },
  "language_info": {
   "codemirror_mode": {
    "name": "ipython",
    "version": 3
   },
   "file_extension": ".py",
   "mimetype": "text/x-python",
   "name": "python",
   "nbconvert_exporter": "python",
   "pygments_lexer": "ipython3",
   "version": "3.6.8"
  }
 },
 "nbformat": 4,
 "nbformat_minor": 2
}
