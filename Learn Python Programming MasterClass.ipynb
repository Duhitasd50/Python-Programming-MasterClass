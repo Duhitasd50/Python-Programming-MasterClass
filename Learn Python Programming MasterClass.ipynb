{
 "cells": [
  {
   "cell_type": "markdown",
   "metadata": {},
   "source": [
    "1.##write a program that requests a number from the keyboard then prints out it sbinary representaions\n",
    "obiviously you could use a format string but tha is not allowed forthis challenge the program should cater for numbers upto 65535 i.e  2**16 - 1 \n",
    "hint: you will need interege division (//) and modulo(%) operator to get the remainder you will also need ** to raise one number to the power of anither:\n",
    "for eg: 2 ** 8 raises 2 to power 8\n",
    "as an optional extra avoid printing leading zeros.\n",
    "once the program is working correctly modify it to print octal rather than binary"
   ]
  },
  {
   "cell_type": "code",
   "execution_count": 1,
   "metadata": {},
   "outputs": [
    {
     "data": {
      "text/plain": [
       "[35184372088832,\n",
       " 4398046511104,\n",
       " 549755813888,\n",
       " 68719476736,\n",
       " 8589934592,\n",
       " 1073741824,\n",
       " 134217728,\n",
       " 16777216,\n",
       " 2097152,\n",
       " 262144,\n",
       " 32768,\n",
       " 4096,\n",
       " 512,\n",
       " 64,\n",
       " 8,\n",
       " 1]"
      ]
     },
     "execution_count": 1,
     "metadata": {},
     "output_type": "execute_result"
    }
   ],
   "source": [
    "powers = []\n",
    "for power in range(15, -1, -1):\n",
    "    powers.append(8**power)\n",
    "powers"
   ]
  },
  {
   "cell_type": "code",
   "execution_count": 2,
   "metadata": {},
   "outputs": [
    {
     "name": "stdout",
     "output_type": "stream",
     "text": [
      "plese enter a number: 34\n",
      "0000000000000042"
     ]
    }
   ],
   "source": [
    "x = int(input(\"plese enter a number: \"))\n",
    "for power in powers:\n",
    "    print(x // power, end='')\n",
    "    x %= power\n"
   ]
  },
  {
   "cell_type": "code",
   "execution_count": 3,
   "metadata": {},
   "outputs": [
    {
     "name": "stdout",
     "output_type": "stream",
     "text": [
      "plese enter a number: 46\n",
      "56"
     ]
    }
   ],
   "source": [
    "x = int(input(\"plese enter a number: \"))\n",
    "printing = False\n",
    "for power in powers:\n",
    "    bit = x // power\n",
    "    if bit != 0:\n",
    "        printing = True\n",
    "    if printing:\n",
    "        print(bit, end='')\n",
    "    x %=power"
   ]
  },
  {
   "cell_type": "markdown",
   "metadata": {},
   "source": [
    "## DICTIONARIES and SETS\n",
    "\n",
    "#SETS: sets are similiar to list , unordered, \n",
    "#Dictionary: values are accessed using a key"
   ]
  },
  {
   "cell_type": "code",
   "execution_count": 4,
   "metadata": {},
   "outputs": [
    {
     "data": {
      "text/plain": [
       "{'orange': 'a sweet, orange, citrus fruit',\n",
       " 'apple': 'good for health, good cider',\n",
       " 'lemon': 'a small, sweet fruit'}"
      ]
     },
     "execution_count": 4,
     "metadata": {},
     "output_type": "execute_result"
    }
   ],
   "source": [
    "fruit = {'orange': \"a sweet, orange, citrus fruit\",\n",
    "        'apple': \"good for health, good cider\",\n",
    "        'lemon': 'a small, sweet fruit'}\n",
    "\n",
    "fruit"
   ]
  },
  {
   "cell_type": "code",
   "execution_count": 5,
   "metadata": {},
   "outputs": [
    {
     "data": {
      "text/plain": [
       "'a small, sweet fruit'"
      ]
     },
     "execution_count": 5,
     "metadata": {},
     "output_type": "execute_result"
    }
   ],
   "source": [
    "fruit['lemon']"
   ]
  },
  {
   "cell_type": "code",
   "execution_count": 6,
   "metadata": {},
   "outputs": [
    {
     "data": {
      "text/plain": [
       "{'make': 'honda', 'model': 'sonata', 'color': 'black', 'engine_size': 1000}"
      ]
     },
     "execution_count": 6,
     "metadata": {},
     "output_type": "execute_result"
    }
   ],
   "source": [
    "car = {\"make\": 'honda', \"model\": 'sonata', \"color\": \"black\", \"engine_size\": 1000}\n",
    "car"
   ]
  },
  {
   "cell_type": "code",
   "execution_count": 7,
   "metadata": {},
   "outputs": [
    {
     "data": {
      "text/plain": [
       "1000"
      ]
     },
     "execution_count": 7,
     "metadata": {},
     "output_type": "execute_result"
    }
   ],
   "source": [
    "car['engine_size']"
   ]
  },
  {
   "cell_type": "code",
   "execution_count": 8,
   "metadata": {},
   "outputs": [
    {
     "data": {
      "text/plain": [
       "'black'"
      ]
     },
     "execution_count": 8,
     "metadata": {},
     "output_type": "execute_result"
    }
   ],
   "source": [
    "car['color']"
   ]
  },
  {
   "cell_type": "code",
   "execution_count": 9,
   "metadata": {},
   "outputs": [
    {
     "data": {
      "text/plain": [
       "{'make': 'honda',\n",
       " 'model': 'sonata',\n",
       " 'color': 'black',\n",
       " 'engine_size': 1000,\n",
       " 'run': 'very less'}"
      ]
     },
     "execution_count": 9,
     "metadata": {},
     "output_type": "execute_result"
    }
   ],
   "source": [
    "car[\"run\"] = \"very less\"\n",
    "car"
   ]
  },
  {
   "cell_type": "code",
   "execution_count": 10,
   "metadata": {},
   "outputs": [
    {
     "ename": "TypeError",
     "evalue": "unhashable type: 'slice'",
     "output_type": "error",
     "traceback": [
      "\u001b[1;31m---------------------------------------------------------------------------\u001b[0m",
      "\u001b[1;31mTypeError\u001b[0m                                 Traceback (most recent call last)",
      "\u001b[1;32m<ipython-input-10-68b5936a83e0>\u001b[0m in \u001b[0;36m<module>\u001b[1;34m\u001b[0m\n\u001b[1;32m----> 1\u001b[1;33m \u001b[0mcar\u001b[0m\u001b[1;33m[\u001b[0m\u001b[1;34m\"run\"\u001b[0m\u001b[1;33m:\u001b[0m \u001b[1;34m\"very less\"\u001b[0m\u001b[1;33m]\u001b[0m\u001b[1;33m\u001b[0m\u001b[1;33m\u001b[0m\u001b[0m\n\u001b[0m\u001b[0;32m      2\u001b[0m \u001b[0mcar\u001b[0m\u001b[1;33m\u001b[0m\u001b[1;33m\u001b[0m\u001b[0m\n",
      "\u001b[1;31mTypeError\u001b[0m: unhashable type: 'slice'"
     ]
    }
   ],
   "source": [
    "car[\"run\": \"very less\"]\n",
    "car"
   ]
  },
  {
   "cell_type": "code",
   "execution_count": null,
   "metadata": {
    "scrolled": true
   },
   "outputs": [],
   "source": [
    "while True:\n",
    "    dict_key = input(\"please enter a fruit: \")\n",
    "    if dict_key ==\"quit\":\n",
    "        break\n",
    "    if dict_key in fruit:\n",
    "            description = fruit.get(dict_key)\n",
    "            print(description)\n",
    "    else:\n",
    "                print(\"we dont have a \" + dict_key)"
   ]
  },
  {
   "cell_type": "code",
   "execution_count": null,
   "metadata": {},
   "outputs": [],
   "source": [
    "fruit = {\"orange\": \"a sweet, sweet fruit, I eat every day\",\n",
    "        \"apple\": \"an apple a day keeps doc away\",\n",
    "        \"lime\": \"you can make paneer\",\n",
    "        \"lemon\": \"really citrus\"}\n",
    "fruit"
   ]
  },
  {
   "cell_type": "code",
   "execution_count": null,
   "metadata": {},
   "outputs": [],
   "source": [
    "for i in range (10):\n",
    "    for snack in fruit:\n",
    "        print(snack + \" is \" + fruit[snack])\n",
    "        print('-' * 40)"
   ]
  },
  {
   "cell_type": "markdown",
   "metadata": {},
   "source": [
    "##IMPROVISED:"
   ]
  },
  {
   "cell_type": "code",
   "execution_count": null,
   "metadata": {},
   "outputs": [],
   "source": [
    "ordered_keys = list(fruit.keys())\n",
    "ordered_keys.sort()\n",
    "for f in ordered_keys:\n",
    "    print(f + \" _ \" + fruit[f])"
   ]
  },
  {
   "cell_type": "code",
   "execution_count": null,
   "metadata": {},
   "outputs": [],
   "source": [
    "ordered_keys = sorted(list(fruit.keys()))\n",
    "for f in ordered_keys:\n",
    "    print(f + ' - ' + fruit[f])"
   ]
  },
  {
   "cell_type": "code",
   "execution_count": null,
   "metadata": {},
   "outputs": [],
   "source": [
    "for f in sorted(fruit.keys()):\n",
    "    print(f + \" - \" + fruit[f])"
   ]
  },
  {
   "cell_type": "code",
   "execution_count": null,
   "metadata": {},
   "outputs": [],
   "source": [
    "for val in fruit.values():\n",
    "    print(val)\n",
    "print('-' * 40)\n",
    "\n",
    "for val in fruit.values():\n",
    "    print(fruit.keys)"
   ]
  },
  {
   "cell_type": "code",
   "execution_count": null,
   "metadata": {},
   "outputs": [],
   "source": [
    "print(fruit)"
   ]
  },
  {
   "cell_type": "code",
   "execution_count": null,
   "metadata": {},
   "outputs": [],
   "source": [
    "print(fruit.items())"
   ]
  },
  {
   "cell_type": "code",
   "execution_count": null,
   "metadata": {},
   "outputs": [],
   "source": [
    "f_tuple = tuple(fruit.items())\n",
    "f_tuple"
   ]
  },
  {
   "cell_type": "code",
   "execution_count": null,
   "metadata": {},
   "outputs": [],
   "source": [
    "print(dict(f_tuple))"
   ]
  },
  {
   "cell_type": "code",
   "execution_count": null,
   "metadata": {},
   "outputs": [],
   "source": [
    "mylist = ['a','b','c','d']\n",
    "letters = \"abcdefghijklmnopqrstuvwxyz\"\n",
    "numbers = \"1234567890\"\n",
    "newstring = ', '.join(letters)\n",
    "newstring\n"
   ]
  },
  {
   "cell_type": "code",
   "execution_count": null,
   "metadata": {},
   "outputs": [],
   "source": [
    "locations = { 0: \"You are sitting in front of a computer learning python\",\n",
    "              1: \"You are standing at the end of a road before a small brick buuilding\",\n",
    "              2: \"You are at the top of a hill\",\n",
    "              3: \"You are inside a building, a well house for a small stream\",\n",
    "              4: \"You are in a valley beside a stream\",\n",
    "              5: \"You are in the forest\"}\n",
    "\n",
    "exists = {0: {\"Q\": 0},\n",
    "          1: {\"W\": 2, \"E\": 3, \"N\": 5, \"S\": 4, \"Q\": 0},\n",
    "          2: {\"N\": 5, \"Q\": 0},\n",
    "          3: {\"W\": 1, \"Q\": 0},\n",
    "          4: {\"N\": 5, \"W\": 2, \"Q\": 0},\n",
    "          5: {\"W\": 2, \"S\": 1, \"Q\": 0}}\n",
    "\n",
    "vocabulary = { \"QUIT\": \"Q\",\n",
    "               \"NORTH\": \"N\",\n",
    "               \"SOUTH\": \"S\",\n",
    "               \"EAST\": \"E\",\n",
    "               \"WEST\": \"W\"}\n",
    "loc = 1\n",
    "while True:\n",
    "    availableExists = \" \"\n",
    "    for directions in exists[loc].keys():\n",
    "        availableExists += directions+ \", \"\n",
    "        print(locations[loc])\n",
    "    if loc == 0:\n",
    "        break\n",
    "    direction = input(\"Available exists are\" + availableExists).upper()\n",
    "    print()\n",
    "    if direction in exists[loc]:\n",
    "        loc = exists[loc][direction]\n",
    "    else:\n",
    "        print(\"You cannot go in that direction\")\n"
   ]
  },
  {
   "cell_type": "code",
   "execution_count": null,
   "metadata": {},
   "outputs": [],
   "source": [
    "locations = { 0: \"You are sitting in front of a computer learning python\",\n",
    "              1: \"You are standing at the end of a road before a small brick buuilding\",\n",
    "              2: \"You are at the top of a hill\",\n",
    "              3: \"You are inside a building, a well house for a small stream\",\n",
    "              4: \"You are in a valley beside a stream\",\n",
    "              5: \"You are in the forest\"}\n",
    "\n",
    "exists = {0: {\"Q\": 0},\n",
    "          1: {\"W\": 2, \"E\": 3, \"N\": 5, \"S\": 4, \"Q\": 0},\n",
    "          2: {\"N\": 5, \"Q\": 0},\n",
    "          3: {\"W\": 1, \"Q\": 0},\n",
    "          4: {\"N\": 5, \"W\": 2, \"Q\": 0},\n",
    "          5: {\"W\": 2, \"S\": 1, \"Q\": 0}}\n",
    "\n",
    "vocabulary = { \"QUIT\": \"Q\",\n",
    "               \"NORTH\": \"N\",\n",
    "               \"SOUTH\": \"S\",\n",
    "               \"EAST\": \"E\",\n",
    "               \"WEST\": \"W\"}\n",
    "loc = 1\n",
    "while True:\n",
    "    availabeExisits = \", \".join(exists[loc].keys())\n",
    "    print(locations[loc])\n",
    "    \n",
    "    if loc == 0:\n",
    "        break\n",
    "    direction = input(\"Available exists are\" + availableExists + \" \").upper()\n",
    "    print()\n",
    "    if len(direction) > 1:\n",
    "        wordes = dricetion.split()\n",
    "        for word in words:\n",
    "            if word in vocabulary:\n",
    "                direction = vocabulary[word]\n",
    "                break\n",
    "    if direction in exists[loc]:\n",
    "        loc = exists[loc][direction]\n",
    "    else:\n",
    "        print(\"you cannot go in that direction\")\n",
    "            \n",
    "    "
   ]
  },
  {
   "cell_type": "code",
   "execution_count": null,
   "metadata": {},
   "outputs": [],
   "source": [
    "fruit = {\"orange\": \"a sweet, sweet fruit, I eat every day\",\n",
    "        \"apple\": \"an apple a day keeps doc away\",\n",
    "        \"lime\": \"you can make paneer\",\n",
    "        \"lemon\": \"really citrus\"}\n",
    "fruit\n",
    "\n",
    "veg = { \"Cabbage\": \"every chiles fav\",\n",
    "           \" Sprouts\": \"mmm, lovely\",\n",
    "          \"spinach\": \" can I have some morre fruit\"}\n",
    "veg\n",
    "\n",
    "veg.update(fruit)\n",
    "veg"
   ]
  },
  {
   "cell_type": "code",
   "execution_count": null,
   "metadata": {},
   "outputs": [],
   "source": [
    "nice_nasty = fruit.copy()"
   ]
  },
  {
   "cell_type": "code",
   "execution_count": null,
   "metadata": {},
   "outputs": [],
   "source": [
    "nice_nasty.update(veg)\n",
    "nice_nasty"
   ]
  },
  {
   "cell_type": "code",
   "execution_count": null,
   "metadata": {},
   "outputs": [],
   "source": [
    "veg"
   ]
  },
  {
   "cell_type": "code",
   "execution_count": null,
   "metadata": {},
   "outputs": [],
   "source": [
    "fruit"
   ]
  },
  {
   "cell_type": "code",
   "execution_count": null,
   "metadata": {},
   "outputs": [],
   "source": [
    "locations = { 0: \"You are sitting in front of a computer learning python\",\n",
    "              1: \"You are standing at the end of a road before a small brick buuilding\",\n",
    "              2: \"You are at the top of a hill\",\n",
    "              3: \"You are inside a building, a well house for a small stream\",\n",
    "              4: \"You are in a valley beside a stream\",\n",
    "              5: \"You are in the forest\"}\n",
    "\n",
    "exists = {0: {\"Q\": 0},\n",
    "          1: {\"W\": 2,\"2\":2, \"E\": 3,\"3\":3,  \"N\": 5, \"5\": 5, \"S\": 4, \"4\": 4, \"Q\": 0},\n",
    "          2: {\"N\": 5, \"5\": 5, \"Q\": 0},\n",
    "          3: {\"W\": 1, \"1\": 1, \"Q\": 0},\n",
    "          4: {\"N\": 5, \"5\": 5, \"W\": 2, \"2\": 2, \"Q\": 0},\n",
    "          5: {\"W\": 2, \"2\": 2, \"S\": 1, \"1\": 1, \"Q\": 0}}\n",
    "\n",
    "vocabulary = { \"QUIT\": \"Q\",\n",
    "               \"NORTH\": \"N\",\n",
    "               \"SOUTH\": \"S\",\n",
    "               \"EAST\": \"E\",\n",
    "               \"WEST\": \"W\",\n",
    "               \"ROAD\": \"1\",\n",
    "               \"HILL\":\"2\",\n",
    "               \"BUILDING\": \"3\",\n",
    "               \"VALLEY\": \"4\",\n",
    "               \"FOREST\": \"5\"}\n",
    "loc = 1\n",
    "while True:\n",
    "    availableExists = \", \".join(exists[loc].keys())\n",
    "    print(locations[loc])\n",
    "    \n",
    "    if loc == 0:\n",
    "        break\n",
    "    direction = input(\"Available exists are \" + availableExists + \" \").upper()\n",
    "    print()\n",
    "    if len(direction) > 1:\n",
    "        wordes = direction.split()\n",
    "        for word in words:\n",
    "            if word in vocabulary:\n",
    "                direction = vocabulary[word]\n",
    "                break\n",
    "    if direction in exists[loc]:\n",
    "        loc = exists[loc][direction]\n",
    "    else:\n",
    "        print(\"you cannot go in that direction\")\n",
    "            \n",
    "    "
   ]
  },
  {
   "cell_type": "markdown",
   "metadata": {},
   "source": [
    "## Challenge time!"
   ]
  },
  {
   "cell_type": "markdown",
   "metadata": {},
   "source": [
    "we have mentioned that the data for the adventure game could be organised in many different ways. we have created another way for you.\n",
    "your mission if you choose to accept it is to change the code to make it work;. below is the complete code from the last video but with the locations dict modified so that everything is in a single dictionary. N.B. yes the codes has some erros, thats what we need to fix."
   ]
  },
  {
   "cell_type": "code",
   "execution_count": null,
   "metadata": {},
   "outputs": [],
   "source": [
    "locations = {0:{\"desc\": \"You are sitting in front of a computer learning python\",\n",
    "                \"exits\": {},\n",
    "               \"namedExits\": {}},\n",
    "              1:{\"desc\": \"You are standing at the end of a road before a small brick buuilding\",\n",
    "                 \"exits\": {\"W\": 2, \"E\": 3, \"N\": 5, \"S\": 4, \"Q\": 0},\n",
    "                \"namedExits\": {\"2\": 2, \"3\": 3, \"5\": 5, \"4\": 4}},\n",
    "              2:{\"desc\": \"You are at the top of a hill\",\n",
    "                 \"exits\": {\"N\": 5, \"Q\": 0},\n",
    "                \"namedExits\": {\"5\": 5}},\n",
    "              3:{\"desc\": \"You are inside a building, a well house for a small stream\",\n",
    "                 \"exits\": {\"W\": 1, \"Q\": 0},\n",
    "                \"namedExits\": {\"1\": 1}},\n",
    "              4:{\"desc\": \"You are in a valley beside a stream\",\n",
    "                 \"exits\": {\"N\": 5, \"W\": 2, \"Q\": 0},\n",
    "                \"namedExits\": {\"5\": 5, \"2\": 2}},\n",
    "              5:{\"desc\": \"You are in the forest\",\n",
    "                \"exits\": {\"W\": 2, \"S\": 1, \"Q\": 0},\n",
    "                \"namedExits\": {\"2\": 2, \"1\": 1}}\n",
    "            }\n",
    "\n",
    "\n",
    "vocabulary = { \"QUIT\": \"Q\",\n",
    "               \"NORTH\": \"N\",\n",
    "               \"SOUTH\": \"S\",\n",
    "               \"EAST\": \"E\",\n",
    "               \"WEST\": \"W\",\n",
    "               \"ROAD\": \"1\",\n",
    "               \"HILL\":\"2\",\n",
    "               \"BUILDING\": \"3\",\n",
    "               \"VALLEY\": \"4\",\n",
    "               \"FOREST\": \"5\"}\n",
    "\n",
    "loc = 1\n",
    "while True:\n",
    "    availableExits = \", \".join(locations[loc][\"exits\"].keys())\n",
    "    print(locations[loc][\"desc\"])\n",
    "    \n",
    "    if loc == 0:\n",
    "        break\n",
    "    else:\n",
    "        allExits = locations[loc][\"exits\"].copy()\n",
    "        allExits.update(locations[loc][\"namedExits\"])\n",
    "        \n",
    "    direction = input(\"Available exists are \" + availableExits + \" \").upper()\n",
    "    print()\n",
    "    \n",
    "    if len(direction) > 1:\n",
    "        words = direction.split()\n",
    "        for word in words:\n",
    "            if word in vocabulary:\n",
    "                direction = vocabulary[word]\n",
    "                break\n",
    "    if direction in locations[loc][\"exits\"]:\n",
    "        loc = locations[loc][\"exits\"][direction]\n",
    "    else:\n",
    "        print(\"you cannot go in that direction\")\n",
    "            \n",
    "    "
   ]
  },
  {
   "cell_type": "markdown",
   "metadata": {},
   "source": [
    "## SETS"
   ]
  },
  {
   "cell_type": "code",
   "execution_count": null,
   "metadata": {},
   "outputs": [],
   "source": [
    "farm_ani = {'sheep', 'cow', 'hen'}\n",
    "farm_ani"
   ]
  },
  {
   "cell_type": "code",
   "execution_count": null,
   "metadata": {},
   "outputs": [],
   "source": [
    "for ani in farm_ani:\n",
    "    print(ani)"
   ]
  },
  {
   "cell_type": "code",
   "execution_count": null,
   "metadata": {},
   "outputs": [],
   "source": [
    "print('=' * 40)"
   ]
  },
  {
   "cell_type": "code",
   "execution_count": null,
   "metadata": {},
   "outputs": [],
   "source": [
    "wild_ani = set(['lion','kangaroo','tiger','deer'])\n",
    "wild_ani"
   ]
  },
  {
   "cell_type": "code",
   "execution_count": null,
   "metadata": {},
   "outputs": [],
   "source": [
    "farm_ani.add('horse')\n",
    "farm_ani"
   ]
  },
  {
   "cell_type": "code",
   "execution_count": null,
   "metadata": {},
   "outputs": [],
   "source": [
    "wild_ani.add('wild horse')\n",
    "wild_ani"
   ]
  },
  {
   "cell_type": "code",
   "execution_count": null,
   "metadata": {},
   "outputs": [],
   "source": [
    "emptyset = set()\n",
    "emptyset2 = {}\n",
    "emptyset.add('a')\n",
    "emptyset"
   ]
  },
  {
   "cell_type": "markdown",
   "metadata": {},
   "source": []
  },
  {
   "cell_type": "code",
   "execution_count": null,
   "metadata": {},
   "outputs": [],
   "source": [
    "emptyset2.add('a')\n",
    "emptyset2"
   ]
  },
  {
   "cell_type": "code",
   "execution_count": null,
   "metadata": {},
   "outputs": [],
   "source": [
    "even = set(range(0, 40, 2))\n",
    "even"
   ]
  },
  {
   "cell_type": "code",
   "execution_count": null,
   "metadata": {},
   "outputs": [],
   "source": [
    "squares_tuple = (4, 6, 7, 8)\n",
    "squares = set(squares_tuple)\n",
    "squares"
   ]
  },
  {
   "cell_type": "markdown",
   "metadata": {},
   "source": [
    "#union"
   ]
  },
  {
   "cell_type": "code",
   "execution_count": null,
   "metadata": {},
   "outputs": [],
   "source": [
    "even = set(range(0, 40, 2))\n",
    "even"
   ]
  },
  {
   "cell_type": "code",
   "execution_count": null,
   "metadata": {},
   "outputs": [],
   "source": [
    "print(len(even))"
   ]
  },
  {
   "cell_type": "code",
   "execution_count": null,
   "metadata": {},
   "outputs": [],
   "source": [
    "s_t = (4,5,6,7,8)\n",
    "s = set(s_t)\n",
    "len(s)"
   ]
  },
  {
   "cell_type": "code",
   "execution_count": null,
   "metadata": {},
   "outputs": [],
   "source": [
    "even.union(s)\n"
   ]
  },
  {
   "cell_type": "code",
   "execution_count": null,
   "metadata": {},
   "outputs": [],
   "source": [
    "len(even.union(s))"
   ]
  },
  {
   "cell_type": "code",
   "execution_count": null,
   "metadata": {},
   "outputs": [],
   "source": [
    "even.intersection(s)"
   ]
  },
  {
   "cell_type": "code",
   "execution_count": null,
   "metadata": {},
   "outputs": [],
   "source": [
    "even & s"
   ]
  },
  {
   "cell_type": "code",
   "execution_count": null,
   "metadata": {},
   "outputs": [],
   "source": [
    "s.intersection(even)"
   ]
  },
  {
   "cell_type": "code",
   "execution_count": null,
   "metadata": {},
   "outputs": [],
   "source": [
    "even = set(range(0, 50, 5))\n",
    "even"
   ]
  },
  {
   "cell_type": "code",
   "execution_count": null,
   "metadata": {},
   "outputs": [],
   "source": [
    "sorted(even)"
   ]
  },
  {
   "cell_type": "code",
   "execution_count": null,
   "metadata": {},
   "outputs": [],
   "source": [
    "s_t = (5, 10, 11, 15, 25, 55, 50)\n",
    "sorted(s_t)"
   ]
  },
  {
   "cell_type": "code",
   "execution_count": null,
   "metadata": {},
   "outputs": [],
   "source": [
    "sorted(s_t)"
   ]
  },
  {
   "cell_type": "code",
   "execution_count": null,
   "metadata": {},
   "outputs": [],
   "source": [
    "sorted(even.difference(s_t))"
   ]
  },
  {
   "cell_type": "code",
   "execution_count": null,
   "metadata": {},
   "outputs": [],
   "source": [
    "sorted(s_t.difference(even))"
   ]
  },
  {
   "cell_type": "code",
   "execution_count": null,
   "metadata": {},
   "outputs": [],
   "source": [
    "s_t - even"
   ]
  },
  {
   "cell_type": "code",
   "execution_count": null,
   "metadata": {},
   "outputs": [],
   "source": [
    "sorted(even)"
   ]
  },
  {
   "cell_type": "code",
   "execution_count": null,
   "metadata": {},
   "outputs": [],
   "source": [
    "s_t\n",
    "square = set(s_t)\n",
    "square"
   ]
  },
  {
   "cell_type": "code",
   "execution_count": null,
   "metadata": {},
   "outputs": [],
   "source": [
    "even.difference_update(s_t)\n",
    "square"
   ]
  },
  {
   "cell_type": "code",
   "execution_count": null,
   "metadata": {},
   "outputs": [],
   "source": [
    "even"
   ]
  },
  {
   "cell_type": "code",
   "execution_count": null,
   "metadata": {},
   "outputs": [],
   "source": [
    "even.symmetric_difference(square)"
   ]
  },
  {
   "cell_type": "code",
   "execution_count": null,
   "metadata": {},
   "outputs": [],
   "source": [
    "square.symmetric_difference(even)"
   ]
  },
  {
   "cell_type": "code",
   "execution_count": null,
   "metadata": {},
   "outputs": [],
   "source": [
    "#to remove an item use discard and remove\n",
    "#but use remove coz the discard does not give error\n"
   ]
  },
  {
   "cell_type": "code",
   "execution_count": null,
   "metadata": {},
   "outputs": [],
   "source": [
    "square.discard(15)\n",
    "square"
   ]
  },
  {
   "cell_type": "code",
   "execution_count": null,
   "metadata": {},
   "outputs": [],
   "source": [
    "square.remove(5)\n",
    "square"
   ]
  },
  {
   "cell_type": "code",
   "execution_count": null,
   "metadata": {},
   "outputs": [],
   "source": [
    "square.remove(8)\n",
    "square"
   ]
  },
  {
   "cell_type": "code",
   "execution_count": null,
   "metadata": {},
   "outputs": [],
   "source": [
    "square.discard(8)\n",
    "square"
   ]
  },
  {
   "cell_type": "code",
   "execution_count": null,
   "metadata": {},
   "outputs": [],
   "source": [
    "even = set(range(0, 40, 2))\n",
    "print(even)\n",
    "squares_tuple = (4, 6, 8, 10)\n",
    "squares = set(squares_tuple)\n",
    "print(squares)"
   ]
  },
  {
   "cell_type": "code",
   "execution_count": null,
   "metadata": {},
   "outputs": [],
   "source": [
    "if squares.issubset(even):\n",
    "    print(\"squares is a subset of even\")"
   ]
  },
  {
   "cell_type": "code",
   "execution_count": null,
   "metadata": {},
   "outputs": [],
   "source": [
    "if even.issuperset(squares):\n",
    "    print(\"superset\")\n"
   ]
  },
  {
   "cell_type": "markdown",
   "metadata": {},
   "source": [
    "## CHALLENGE TIME!"
   ]
  },
  {
   "cell_type": "markdown",
   "metadata": {},
   "source": [
    "Create a program that takes some text and returns a list of all the charactrers in the text that are not vowels, sorted in the alphabetical prder. you can either enter the text from the keyboard or initialize a string variable with the string"
   ]
  },
  {
   "cell_type": "code",
   "execution_count": null,
   "metadata": {},
   "outputs": [],
   "source": [
    "sample_text = \"python is my fav lang\"\n",
    "vowel = frozenset(\"aeiou\")\n",
    "# alternatively\n",
    "#vowel = {\"a\", \"e\",\"i\"...}\n",
    "finalset = set(sample_text).difference(vowel)\n",
    "print(\"finalSet : \", finalset)\n",
    "finallist = sorted(finalset)\n",
    "print(\"Final List : \", finallist)\n",
    "# for char in (sample_text):\n",
    "#     if char != vowel:\n",
    "#         print(char)       "
   ]
  },
  {
   "cell_type": "markdown",
   "metadata": {},
   "source": [
    "## SECTION 10\n",
    "## INPUT AND OUTPUT(I/O) IN PYTHON\n",
    "#pickel and self"
   ]
  },
  {
   "cell_type": "code",
   "execution_count": null,
   "metadata": {},
   "outputs": [],
   "source": [
    "jabber = open(\"C:\\\\Users\\Dee1\\Desktop\\Jabbers.txt\")\n",
    "for line in jabber:\n",
    "    print(line)"
   ]
  },
  {
   "cell_type": "code",
   "execution_count": null,
   "metadata": {},
   "outputs": [],
   "source": [
    "jabber.close()"
   ]
  },
  {
   "cell_type": "markdown",
   "metadata": {},
   "source": [
    "# Write to file"
   ]
  },
  {
   "cell_type": "code",
   "execution_count": null,
   "metadata": {},
   "outputs": [],
   "source": [
    "cities = [\"nagar\", 'bridgeport', 'darwin', 'pune']\n",
    "with open(\"cities.txt\", 'w') as city_file:\n",
    "    for city in cities:\n",
    "        print(city, file=city_file, flush=True)"
   ]
  },
  {
   "cell_type": "code",
   "execution_count": null,
   "metadata": {},
   "outputs": [],
   "source": [
    "cities = []\n",
    "with open(\"cities.txt\", 'r') as city_file:\n",
    "    for city in city_file:\n",
    "        cities.append(city.strip('\\n'))"
   ]
  },
  {
   "cell_type": "code",
   "execution_count": null,
   "metadata": {},
   "outputs": [],
   "source": [
    "print(cities)\n",
    "for city in cities:\n",
    "    print(city)"
   ]
  },
  {
   "cell_type": "code",
   "execution_count": null,
   "metadata": {},
   "outputs": [],
   "source": [
    "print(\"bridgeport\".strip('port'))"
   ]
  },
  {
   "cell_type": "markdown",
   "metadata": {},
   "source": [
    "## Challenge Time!!"
   ]
  },
  {
   "cell_type": "markdown",
   "metadata": {},
   "source": [
    "# write a program to append the times table to our jabberwocky poem in sample.txt we want the tables from 2 to 12 (similiar to the output from thr for loops part 2 lecture in section 6)\n",
    "# the first column of numbers should be right justified. as an example the 2 times table should look like this:\n",
    "1 times 2 is 2\n",
    "2 times 2 is 4\n",
    ".\n",
    ".\n",
    ".\n",
    "12 times 2 is 24"
   ]
  },
  {
   "cell_type": "code",
   "execution_count": null,
   "metadata": {},
   "outputs": [],
   "source": [
    "with open(\"sample.txt\", 'a') as tables :\n",
    "    for i in range(2, 13):\n",
    "        for j in range(1, 13):\n",
    "            print(\"{1:>2} times {0} is {2}\".format(i, j, i * j), file = tables)\n",
    "           \n"
   ]
  },
  {
   "cell_type": "markdown",
   "metadata": {},
   "source": [
    "#reading and wirting binary data"
   ]
  },
  {
   "cell_type": "code",
   "execution_count": null,
   "metadata": {},
   "outputs": [],
   "source": [
    "with open(\"binary\", \"bw\") as bin_file:\n",
    "    for i in range(17):\n",
    "        bin_file.write(bytes(range(i)))\n",
    "        \n",
    "with open(\"binary\", \"br\") as binFile:\n",
    "    for b in binFile:\n",
    "        print(b)"
   ]
  },
  {
   "cell_type": "code",
   "execution_count": null,
   "metadata": {},
   "outputs": [],
   "source": [
    "a = 65534\n",
    "b = 54674\n",
    "c = 87563\n",
    "with open(\"binary2\",\"bw\") as bin_file:\n",
    "    bin_file.write(a.to_bytes(2, \"big\"))"
   ]
  },
  {
   "cell_type": "markdown",
   "metadata": {},
   "source": [
    "# Pickles \n",
    "(Serialization and deserialization)"
   ]
  },
  {
   "cell_type": "code",
   "execution_count": null,
   "metadata": {},
   "outputs": [],
   "source": [
    "pip install pickle"
   ]
  },
  {
   "cell_type": "code",
   "execution_count": 11,
   "metadata": {},
   "outputs": [],
   "source": [
    "import pickle\n",
    "\n",
    "# dict = { 1: \"6\", 2:\"3\", 3:\"5\"}\n",
    "# pickle_out = open(\"dict.pickle\", \"wb\")\n",
    "# pickle.dump(dict, pickle_out)\n",
    "# pickle_out.close()"
   ]
  },
  {
   "cell_type": "code",
   "execution_count": 17,
   "metadata": {},
   "outputs": [
    {
     "name": "stdout",
     "output_type": "stream",
     "text": [
      "{1: '6', 2: '3', 3: '5'}\n",
      "6\n"
     ]
    }
   ],
   "source": [
    "pickle_in = open(\"dict.pickle\",\"rb\")\n",
    "dict = pickle.load(pickle_in)\n",
    "print(dict)\n",
    "print(dict[1])"
   ]
  },
  {
   "cell_type": "markdown",
   "metadata": {},
   "source": [
    "## Shelve"
   ]
  },
  {
   "cell_type": "code",
   "execution_count": 1,
   "metadata": {},
   "outputs": [],
   "source": [
    "import shelve"
   ]
  },
  {
   "cell_type": "code",
   "execution_count": 12,
   "metadata": {},
   "outputs": [
    {
     "name": "stdout",
     "output_type": "stream",
     "text": [
      "please enter somethingsomething\n"
     ]
    },
    {
     "ename": "NameError",
     "evalue": "name 'key' is not defined",
     "output_type": "error",
     "traceback": [
      "\u001b[1;31m---------------------------------------------------------------------------\u001b[0m",
      "\u001b[1;31mNameError\u001b[0m                                 Traceback (most recent call last)",
      "\u001b[1;32m<ipython-input-12-620303980a73>\u001b[0m in \u001b[0;36m<module>\u001b[1;34m\u001b[0m\n\u001b[0;32m      4\u001b[0m                           \u001b[1;31m# library\u001b[0m\u001b[1;33m\u001b[0m\u001b[1;33m\u001b[0m\u001b[1;33m\u001b[0m\u001b[0m\n\u001b[0;32m      5\u001b[0m \u001b[1;33m\u001b[0m\u001b[0m\n\u001b[1;32m----> 6\u001b[1;33m \u001b[0md\u001b[0m\u001b[1;33m[\u001b[0m\u001b[0mkey\u001b[0m\u001b[1;33m]\u001b[0m \u001b[1;33m=\u001b[0m \u001b[0minput\u001b[0m\u001b[1;33m(\u001b[0m\u001b[1;34m\"please enter something\"\u001b[0m\u001b[1;33m)\u001b[0m   \u001b[1;31m# store data at key (overwrites old data if\u001b[0m\u001b[1;33m\u001b[0m\u001b[1;33m\u001b[0m\u001b[0m\n\u001b[0m\u001b[0;32m      7\u001b[0m                 \u001b[1;31m# using an existing key)\u001b[0m\u001b[1;33m\u001b[0m\u001b[1;33m\u001b[0m\u001b[1;33m\u001b[0m\u001b[0m\n\u001b[0;32m      8\u001b[0m \u001b[0mdata\u001b[0m \u001b[1;33m=\u001b[0m \u001b[0md\u001b[0m\u001b[1;33m[\u001b[0m\u001b[0mkey\u001b[0m\u001b[1;33m]\u001b[0m   \u001b[1;31m# retrieve a COPY of data at key (raise KeyError if no\u001b[0m\u001b[1;33m\u001b[0m\u001b[1;33m\u001b[0m\u001b[0m\n",
      "\u001b[1;31mNameError\u001b[0m: name 'key' is not defined"
     ]
    }
   ],
   "source": [
    "import shelve\n",
    "\n",
    "d = shelve.open(\"dee shelve\") # open -- file may get suffix added by low-level\n",
    "                          # library\n",
    "\n",
    "d[key] = input(\"please enter something\")   # store data at key (overwrites old data if\n",
    "                # using an existing key)\n",
    "data = d[key]   # retrieve a COPY of data at key (raise KeyError if no\n",
    "                # such key)\n",
    "del d[key]      # delete data stored at key (raises KeyError\n",
    "                # if no such key)\n",
    "flag = d.has_key(key)   # true if the key exists\n",
    "klist = d.keys() # a list of all existing keys (slow!)\n",
    "\n",
    "# as d was opened WITHOUT writeback=True, beware:\n",
    "d['xx'] = range(4)  # this works as expected, but...\n",
    "d['xx'].append(5)   # *this doesn't!* -- d['xx'] is STILL range(4)!\n",
    "\n",
    "# having opened d without writeback=True, you need to code carefully:\n",
    "temp = d['xx']      # extracts the copy\n",
    "temp.append(5)      # mutates the copy\n",
    "d['xx'] = temp      # stores the copy right back, to persist it\n",
    "\n",
    "# or, d=shelve.open(filename,writeback=True) would let you just code\n",
    "# d['xx'].append(5) and have it work as expected, BUT it would also\n",
    "# consume more memory and make the d.close() operation slower.\n",
    "\n",
    "d.close()       # close it"
   ]
  },
  {
   "cell_type": "code",
   "execution_count": 17,
   "metadata": {},
   "outputs": [
    {
     "name": "stdout",
     "output_type": "stream",
     "text": [
      "blt ['bacon', 'letus', 'tomato', 'butter']\n",
      "soup ['tin of soup']\n",
      "pasta ['pasta', 'cheese', 'tomato sauce']\n"
     ]
    }
   ],
   "source": [
    "import shelve\n",
    "blt = ['bacon','letus','tomato']\n",
    "soup = ['tin of soup']\n",
    "pasta = ['pasta', 'cheese']\n",
    "\n",
    "with shelve.open('Learn Python Programmin MasterClass', writeback=True) as Learn:\n",
    "    Learn['blt'] = blt\n",
    "    Learn['soup'] = soup\n",
    "    Learn['pasta'] = pasta\n",
    "    Learn['blt'].append('butter')\n",
    "    Learn['pasta'].append(\"tomato sauce\")\n",
    "    \n",
    "    for snack in Learn:\n",
    "        print(snack, Learn[snack])\n"
   ]
  },
  {
   "cell_type": "code",
   "execution_count": 20,
   "metadata": {},
   "outputs": [
    {
     "name": "stdout",
     "output_type": "stream",
     "text": [
      "{'blt': ['bacon', 'lettus', 'tomato', 'bread'], 'beans_on_tost': ['beans', 'bread', 'butter', 'black pepper'], 'soup': ['tin of chicken noodle']}\n"
     ]
    }
   ],
   "source": [
    "import shelve\n",
    "\n",
    "books = shelve.open(\"Learn Python Programming MasterClass\")\n",
    "books['recipies'] = { \"blt\" : [\"bacon\", \"lettus\", \"tomato\", \"bread\"],\n",
    "                      \"beans_on_tost\" : [\"beans\", \"bread\", \"butter\",\"black pepper\"],\n",
    "                      \"soup\" : [\"tin of chicken noodle\"] }\n",
    "books[\"maintenance\"] = {\"stuck\" : [\"oil\"],\n",
    "                          \"loose\" : [\"gaffer tape\"]}\n",
    "print(books[\"recipies\"])"
   ]
  },
  {
   "cell_type": "markdown",
   "metadata": {},
   "source": [
    "## Challenge Time!!"
   ]
  },
  {
   "cell_type": "markdown",
   "metadata": {},
   "source": [
    " Modify the program from the Second Dictionary challenge of lecture 56 to use shelves instead of dictionaries.\n",
    "\n",
    " Do this by creating two programs. cave_initialise.py should create the two\n",
    "shelves (locations and vocabulary) with the appropriate keys and values.\n",
    "\n",
    " cave_game.py will then use the two shelves instead of dictionaries.\n",
    " Apart from opening and closing the shelves, cave_game will need only\n",
    " two changes to the actual code - remember that shelf keys MUST be strings!\n",
    "\n",
    " Just to be clear, cave_game.py will contain the code from line 45, everything\n",
    " before that (modified to use shelves) will be in cave_initialise.py."
   ]
  },
  {
   "cell_type": "code",
   "execution_count": null,
   "metadata": {},
   "outputs": [],
   "source": []
  }
 ],
 "metadata": {
  "kernelspec": {
   "display_name": "Python 3",
   "language": "python",
   "name": "python3"
  },
  "language_info": {
   "codemirror_mode": {
    "name": "ipython",
    "version": 3
   },
   "file_extension": ".py",
   "mimetype": "text/x-python",
   "name": "python",
   "nbconvert_exporter": "python",
   "pygments_lexer": "ipython3",
   "version": "3.6.8"
  }
 },
 "nbformat": 4,
 "nbformat_minor": 2
}
