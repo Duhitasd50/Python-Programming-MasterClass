{
 "cells": [
  {
   "cell_type": "markdown",
   "metadata": {},
   "source": [
    "1.##write a program that requests a number from the keyboard then prints out it sbinary representaions\n",
    "obiviously you could use a format string but tha is not allowed forthis challenge the program should cater for numbers upto 65535 i.e  2**16 - 1 \n",
    "hint: you will need interege division (//) and modulo(%) operator to get the remainder you will also need ** to raise one number to the power of anither:\n",
    "for eg: 2 ** 8 raises 2 to power 8\n",
    "as an optional extra avoid printing leading zeros.\n",
    "once the program is working correctly modify it to print octal rather than binary"
   ]
  },
  {
   "cell_type": "code",
   "execution_count": null,
   "metadata": {},
   "outputs": [],
   "source": [
    "powers = []\n",
    "for power in range(15, -1, -1):\n",
    "    powers.append(8**power)\n",
    "powers"
   ]
  },
  {
   "cell_type": "code",
   "execution_count": null,
   "metadata": {},
   "outputs": [],
   "source": [
    "x = int(input(\"plese enter a number: \"))\n",
    "for power in powers:\n",
    "    print(x // power, end='')\n",
    "    x %= power\n"
   ]
  },
  {
   "cell_type": "code",
   "execution_count": null,
   "metadata": {},
   "outputs": [],
   "source": [
    "x = int(input(\"plese enter a number: \"))\n",
    "printing = False\n",
    "for power in powers:\n",
    "    bit = x // power\n",
    "    if bit != 0:\n",
    "        printing = True\n",
    "    if printing:\n",
    "        print(bit, end='')\n",
    "    x %=power"
   ]
  },
  {
   "cell_type": "markdown",
   "metadata": {},
   "source": [
    "## DICTIONARIES and SETS\n",
    "\n",
    "#SETS: sets are similiar to list , unordered, \n",
    "#Dictionary: values are accessed using a key"
   ]
  },
  {
   "cell_type": "code",
   "execution_count": null,
   "metadata": {},
   "outputs": [],
   "source": [
    "fruit = {'orange': \"a sweet, orange, citrus fruit\",\n",
    "        'apple': \"good for health, good cider\",\n",
    "        'lemon': 'a small, sweet fruit'}\n",
    "\n",
    "fruit"
   ]
  },
  {
   "cell_type": "code",
   "execution_count": null,
   "metadata": {},
   "outputs": [],
   "source": [
    "fruit['lemon']"
   ]
  },
  {
   "cell_type": "code",
   "execution_count": null,
   "metadata": {},
   "outputs": [],
   "source": [
    "car = {\"make\": 'honda', \"model\": 'sonata', \"color\": \"black\", \"engine_size\": 1000}\n",
    "car"
   ]
  },
  {
   "cell_type": "code",
   "execution_count": null,
   "metadata": {},
   "outputs": [],
   "source": [
    "car['engine_size']"
   ]
  },
  {
   "cell_type": "code",
   "execution_count": null,
   "metadata": {},
   "outputs": [],
   "source": [
    "car['color']"
   ]
  },
  {
   "cell_type": "code",
   "execution_count": null,
   "metadata": {},
   "outputs": [],
   "source": [
    "car[\"run\"] = \"very less\"\n",
    "car"
   ]
  },
  {
   "cell_type": "code",
   "execution_count": null,
   "metadata": {},
   "outputs": [],
   "source": [
    "car[\"run\": \"very less\"]\n",
    "car"
   ]
  },
  {
   "cell_type": "code",
   "execution_count": null,
   "metadata": {
    "scrolled": true
   },
   "outputs": [],
   "source": [
    "while True:\n",
    "    dict_key = input(\"please enter a fruit: \")\n",
    "    if dict_key ==\"quit\":\n",
    "        break\n",
    "    if dict_key in fruit:\n",
    "            description = fruit.get(dict_key)\n",
    "            print(description)\n",
    "    else:\n",
    "                print(\"we dont have a \" + dict_key)"
   ]
  },
  {
   "cell_type": "code",
   "execution_count": null,
   "metadata": {},
   "outputs": [],
   "source": [
    "fruit = {\"orange\": \"a sweet, sweet fruit, I eat every day\",\n",
    "        \"apple\": \"an apple a day keeps doc away\",\n",
    "        \"lime\": \"you can make paneer\",\n",
    "        \"lemon\": \"really citrus\"}\n",
    "fruit"
   ]
  },
  {
   "cell_type": "code",
   "execution_count": null,
   "metadata": {},
   "outputs": [],
   "source": [
    "for i in range (10):\n",
    "    for snack in fruit:\n",
    "        print(snack + \" is \" + fruit[snack])\n",
    "        print('-' * 40)"
   ]
  },
  {
   "cell_type": "markdown",
   "metadata": {},
   "source": [
    "##IMPROVISED:"
   ]
  },
  {
   "cell_type": "code",
   "execution_count": null,
   "metadata": {},
   "outputs": [],
   "source": [
    "ordered_keys = list(fruit.keys())\n",
    "ordered_keys.sort()\n",
    "for f in ordered_keys:\n",
    "    print(f + \" _ \" + fruit[f])"
   ]
  },
  {
   "cell_type": "code",
   "execution_count": null,
   "metadata": {},
   "outputs": [],
   "source": [
    "ordered_keys = sorted(list(fruit.keys()))\n",
    "for f in ordered_keys:\n",
    "    print(f + ' - ' + fruit[f])"
   ]
  },
  {
   "cell_type": "code",
   "execution_count": null,
   "metadata": {},
   "outputs": [],
   "source": [
    "for f in sorted(fruit.keys()):\n",
    "    print(f + \" - \" + fruit[f])"
   ]
  },
  {
   "cell_type": "code",
   "execution_count": null,
   "metadata": {},
   "outputs": [],
   "source": [
    "for val in fruit.values():\n",
    "    print(val)\n",
    "print('-' * 40)\n",
    "\n",
    "for val in fruit.values():\n",
    "    print(fruit.keys)"
   ]
  },
  {
   "cell_type": "code",
   "execution_count": null,
   "metadata": {},
   "outputs": [],
   "source": [
    "print(fruit)"
   ]
  },
  {
   "cell_type": "code",
   "execution_count": null,
   "metadata": {},
   "outputs": [],
   "source": [
    "print(fruit.items())"
   ]
  },
  {
   "cell_type": "code",
   "execution_count": null,
   "metadata": {},
   "outputs": [],
   "source": [
    "f_tuple = tuple(fruit.items())\n",
    "f_tuple"
   ]
  },
  {
   "cell_type": "code",
   "execution_count": null,
   "metadata": {},
   "outputs": [],
   "source": [
    "print(dict(f_tuple))"
   ]
  },
  {
   "cell_type": "code",
   "execution_count": null,
   "metadata": {},
   "outputs": [],
   "source": [
    "mylist = ['a','b','c','d']\n",
    "letters = \"abcdefghijklmnopqrstuvwxyz\"\n",
    "numbers = \"1234567890\"\n",
    "newstring = ', '.join(letters)\n",
    "newstring\n"
   ]
  },
  {
   "cell_type": "code",
   "execution_count": 1,
   "metadata": {},
   "outputs": [
    {
     "name": "stdout",
     "output_type": "stream",
     "text": [
      "You are standing at the end of a road before a small brick buuilding\n",
      "You are standing at the end of a road before a small brick buuilding\n",
      "You are standing at the end of a road before a small brick buuilding\n",
      "You are standing at the end of a road before a small brick buuilding\n",
      "You are standing at the end of a road before a small brick buuilding\n",
      "Available exists are W, E, N, S, Q, W\n",
      "\n",
      "You are at the top of a hill\n",
      "You are at the top of a hill\n",
      "Available exists are N, Q, n\n",
      "\n",
      "You are in the forest\n",
      "You are in the forest\n",
      "You are in the forest\n",
      "Available exists are W, S, Q, w\n",
      "\n",
      "You are at the top of a hill\n",
      "You are at the top of a hill\n",
      "Available exists are N, Q, q\n",
      "\n",
      "You are sitting in front of a computer learning python\n"
     ]
    }
   ],
   "source": [
    "locations = { 0: \"You are sitting in front of a computer learning python\",\n",
    "              1: \"You are standing at the end of a road before a small brick buuilding\",\n",
    "              2: \"You are at the top of a hill\",\n",
    "              3: \"You are inside a building, a well house for a small stream\",\n",
    "              4: \"You are in a valley beside a stream\",\n",
    "              5: \"You are in the forest\"}\n",
    "\n",
    "exists = {0: {\"Q\": 0},\n",
    "          1: {\"W\": 2, \"E\": 3, \"N\": 5, \"S\": 4, \"Q\": 0},\n",
    "          2: {\"N\": 5, \"Q\": 0},\n",
    "          3: {\"W\": 1, \"Q\": 0},\n",
    "          4: {\"N\": 5, \"W\": 2, \"Q\": 0},\n",
    "          5: {\"W\": 2, \"S\": 1, \"Q\": 0}}\n",
    "\n",
    "vocabulary = { \"QUIT\": \"Q\",\n",
    "               \"NORTH\": \"N\",\n",
    "               \"SOUTH\": \"S\",\n",
    "               \"EAST\": \"E\",\n",
    "               \"WEST\": \"W\"}\n",
    "loc = 1\n",
    "while True:\n",
    "    availableExists = \" \"\n",
    "    for directions in exists[loc].keys():\n",
    "        availableExists += directions+ \", \"\n",
    "        print(locations[loc])\n",
    "    if loc == 0:\n",
    "        break\n",
    "    direction = input(\"Available exists are\" + availableExists).upper()\n",
    "    print()\n",
    "    if direction in exists[loc]:\n",
    "        loc = exists[loc][direction]\n",
    "    else:\n",
    "        print(\"You cannot go in that direction\")\n"
   ]
  },
  {
   "cell_type": "code",
   "execution_count": 4,
   "metadata": {},
   "outputs": [
    {
     "name": "stdout",
     "output_type": "stream",
     "text": [
      "You are standing at the end of a road before a small brick buuilding\n",
      "Available exists are Q,  W\n",
      "\n",
      "You are at the top of a hill\n",
      "Available exists are Q,  N\n",
      "\n",
      "You are in the forest\n",
      "Available exists are Q,  Q\n",
      "\n",
      "You are sitting in front of a computer learning python\n"
     ]
    }
   ],
   "source": [
    "locations = { 0: \"You are sitting in front of a computer learning python\",\n",
    "              1: \"You are standing at the end of a road before a small brick buuilding\",\n",
    "              2: \"You are at the top of a hill\",\n",
    "              3: \"You are inside a building, a well house for a small stream\",\n",
    "              4: \"You are in a valley beside a stream\",\n",
    "              5: \"You are in the forest\"}\n",
    "\n",
    "exists = {0: {\"Q\": 0},\n",
    "          1: {\"W\": 2, \"E\": 3, \"N\": 5, \"S\": 4, \"Q\": 0},\n",
    "          2: {\"N\": 5, \"Q\": 0},\n",
    "          3: {\"W\": 1, \"Q\": 0},\n",
    "          4: {\"N\": 5, \"W\": 2, \"Q\": 0},\n",
    "          5: {\"W\": 2, \"S\": 1, \"Q\": 0}}\n",
    "\n",
    "vocabulary = { \"QUIT\": \"Q\",\n",
    "               \"NORTH\": \"N\",\n",
    "               \"SOUTH\": \"S\",\n",
    "               \"EAST\": \"E\",\n",
    "               \"WEST\": \"W\"}\n",
    "loc = 1\n",
    "while True:\n",
    "    availabeExisits = \", \".join(exists[loc].keys())\n",
    "    print(locations[loc])\n",
    "    \n",
    "    if loc == 0:\n",
    "        break\n",
    "    direction = input(\"Available exists are\" + availableExists + \" \").upper()\n",
    "    print()\n",
    "    if len(direction) > 1:\n",
    "        wordes = dricetion.split()\n",
    "        for word in words:\n",
    "            if word in vocabulary:\n",
    "                direction = vocabulary[word]\n",
    "                break\n",
    "    if direction in exists[loc]:\n",
    "        loc = exists[loc][direction]\n",
    "    else:\n",
    "        print(\"you cannot go in that direction\")\n",
    "            \n",
    "    "
   ]
  },
  {
   "cell_type": "code",
   "execution_count": 6,
   "metadata": {},
   "outputs": [
    {
     "data": {
      "text/plain": [
       "{'Cabbage': 'every chiles fav',\n",
       " ' Sprouts': 'mmm, lovely',\n",
       " 'spinach': ' can I have some morre fruit',\n",
       " 'orange': 'a sweet, sweet fruit, I eat every day',\n",
       " 'apple': 'an apple a day keeps doc away',\n",
       " 'lime': 'you can make paneer',\n",
       " 'lemon': 'really citrus'}"
      ]
     },
     "execution_count": 6,
     "metadata": {},
     "output_type": "execute_result"
    }
   ],
   "source": [
    "fruit = {\"orange\": \"a sweet, sweet fruit, I eat every day\",\n",
    "        \"apple\": \"an apple a day keeps doc away\",\n",
    "        \"lime\": \"you can make paneer\",\n",
    "        \"lemon\": \"really citrus\"}\n",
    "fruit\n",
    "\n",
    "veg = { \"Cabbage\": \"every chiles fav\",\n",
    "           \" Sprouts\": \"mmm, lovely\",\n",
    "          \"spinach\": \" can I have some morre fruit\"}\n",
    "veg\n",
    "\n",
    "veg.update(fruit)\n",
    "veg"
   ]
  },
  {
   "cell_type": "code",
   "execution_count": 7,
   "metadata": {},
   "outputs": [],
   "source": [
    "nice_nasty = fruit.copy()"
   ]
  },
  {
   "cell_type": "code",
   "execution_count": 8,
   "metadata": {},
   "outputs": [
    {
     "data": {
      "text/plain": [
       "{'orange': 'a sweet, sweet fruit, I eat every day',\n",
       " 'apple': 'an apple a day keeps doc away',\n",
       " 'lime': 'you can make paneer',\n",
       " 'lemon': 'really citrus',\n",
       " 'Cabbage': 'every chiles fav',\n",
       " ' Sprouts': 'mmm, lovely',\n",
       " 'spinach': ' can I have some morre fruit'}"
      ]
     },
     "execution_count": 8,
     "metadata": {},
     "output_type": "execute_result"
    }
   ],
   "source": [
    "nice_nasty.update(veg)\n",
    "nice_nasty"
   ]
  },
  {
   "cell_type": "code",
   "execution_count": 9,
   "metadata": {},
   "outputs": [
    {
     "data": {
      "text/plain": [
       "{'Cabbage': 'every chiles fav',\n",
       " ' Sprouts': 'mmm, lovely',\n",
       " 'spinach': ' can I have some morre fruit',\n",
       " 'orange': 'a sweet, sweet fruit, I eat every day',\n",
       " 'apple': 'an apple a day keeps doc away',\n",
       " 'lime': 'you can make paneer',\n",
       " 'lemon': 'really citrus'}"
      ]
     },
     "execution_count": 9,
     "metadata": {},
     "output_type": "execute_result"
    }
   ],
   "source": [
    "veg"
   ]
  },
  {
   "cell_type": "code",
   "execution_count": 10,
   "metadata": {},
   "outputs": [
    {
     "data": {
      "text/plain": [
       "{'orange': 'a sweet, sweet fruit, I eat every day',\n",
       " 'apple': 'an apple a day keeps doc away',\n",
       " 'lime': 'you can make paneer',\n",
       " 'lemon': 'really citrus'}"
      ]
     },
     "execution_count": 10,
     "metadata": {},
     "output_type": "execute_result"
    }
   ],
   "source": [
    "fruit"
   ]
  },
  {
   "cell_type": "code",
   "execution_count": null,
   "metadata": {},
   "outputs": [],
   "source": [
    "locations = { 0: \"You are sitting in front of a computer learning python\",\n",
    "              1: \"You are standing at the end of a road before a small brick buuilding\",\n",
    "              2: \"You are at the top of a hill\",\n",
    "              3: \"You are inside a building, a well house for a small stream\",\n",
    "              4: \"You are in a valley beside a stream\",\n",
    "              5: \"You are in the forest\"}\n",
    "\n",
    "exists = {0: {\"Q\": 0},\n",
    "          1: {\"W\": 2,\"2\":2, \"E\": 3,\"3\":3,  \"N\": 5, \"5\": 5, \"S\": 4, \"4\": 4, \"Q\": 0},\n",
    "          2: {\"N\": 5, \"5\": 5, \"Q\": 0},\n",
    "          3: {\"W\": 1, \"1\": 1, \"Q\": 0},\n",
    "          4: {\"N\": 5, \"5\": 5, \"W\": 2, \"2\": 2, \"Q\": 0},\n",
    "          5: {\"W\": 2, \"2\": 2, \"S\": 1, \"1\": 1, \"Q\": 0}}\n",
    "\n",
    "vocabulary = { \"QUIT\": \"Q\",\n",
    "               \"NORTH\": \"N\",\n",
    "               \"SOUTH\": \"S\",\n",
    "               \"EAST\": \"E\",\n",
    "               \"WEST\": \"W\",\n",
    "               \"ROAD\": \"1\",\n",
    "               \"HILL\":\"2\",\n",
    "               \"BUILDING\": \"3\",\n",
    "               \"VALLEY\": \"4\",\n",
    "               \"FOREST\": \"5\"}\n",
    "loc = 1\n",
    "while True:\n",
    "    availableExists = \", \".join(exists[loc].keys())\n",
    "    print(locations[loc])\n",
    "    \n",
    "    if loc == 0:\n",
    "        break\n",
    "    direction = input(\"Available exists are \" + availableExists + \" \").upper()\n",
    "    print()\n",
    "    if len(direction) > 1:\n",
    "        wordes = direction.split()\n",
    "        for word in words:\n",
    "            if word in vocabulary:\n",
    "                direction = vocabulary[word]\n",
    "                break\n",
    "    if direction in exists[loc]:\n",
    "        loc = exists[loc][direction]\n",
    "    else:\n",
    "        print(\"you cannot go in that direction\")\n",
    "            \n",
    "    "
   ]
  },
  {
   "cell_type": "markdown",
   "metadata": {},
   "source": [
    "## Challenge time!"
   ]
  },
  {
   "cell_type": "markdown",
   "metadata": {},
   "source": [
    "we have mentioned that the data for the adventure game could be organised in many different ways. we have created another way for you.\n",
    "your mission if you choose to accept it is to change the code to make it work;. below is the complete code from the last video but with the locations dict modified so that everything is in a single dictionary. N.B. yes the codes has some erros, thats what we need to fix."
   ]
  },
  {
   "cell_type": "code",
   "execution_count": 11,
   "metadata": {},
   "outputs": [
    {
     "name": "stdout",
     "output_type": "stream",
     "text": [
      "You are standing at the end of a road before a small brick buuilding\n",
      "Available exists are W, E, N, S, Q w\n",
      "\n",
      "You are at the top of a hill\n",
      "Available exists are N, Q n\n",
      "\n",
      "You are in the forest\n",
      "Available exists are W, S, Q s\n",
      "\n",
      "You are standing at the end of a road before a small brick buuilding\n",
      "Available exists are W, E, N, S, Q e\n",
      "\n",
      "You are inside a building, a well house for a small stream\n",
      "Available exists are W, Q w\n",
      "\n",
      "You are standing at the end of a road before a small brick buuilding\n",
      "Available exists are W, E, N, S, Q n\n",
      "\n",
      "You are in the forest\n",
      "Available exists are W, S, Q q\n",
      "\n",
      "You are sitting in front of a computer learning python\n"
     ]
    }
   ],
   "source": [
    "locations = {0:{\"desc\": \"You are sitting in front of a computer learning python\",\n",
    "                \"exits\": {},\n",
    "               \"namedExits\": {}},\n",
    "              1:{\"desc\": \"You are standing at the end of a road before a small brick buuilding\",\n",
    "                 \"exits\": {\"W\": 2, \"E\": 3, \"N\": 5, \"S\": 4, \"Q\": 0},\n",
    "                \"namedExits\": {\"2\": 2, \"3\": 3, \"5\": 5, \"4\": 4}},\n",
    "              2:{\"desc\": \"You are at the top of a hill\",\n",
    "                 \"exits\": {\"N\": 5, \"Q\": 0},\n",
    "                \"namedExits\": {\"5\": 5}},\n",
    "              3:{\"desc\": \"You are inside a building, a well house for a small stream\",\n",
    "                 \"exits\": {\"W\": 1, \"Q\": 0},\n",
    "                \"namedExits\": {\"1\": 1}},\n",
    "              4:{\"desc\": \"You are in a valley beside a stream\",\n",
    "                 \"exits\": {\"N\": 5, \"W\": 2, \"Q\": 0},\n",
    "                \"namedExits\": {\"5\": 5, \"2\": 2}},\n",
    "              5:{\"desc\": \"You are in the forest\",\n",
    "                \"exits\": {\"W\": 2, \"S\": 1, \"Q\": 0},\n",
    "                \"namedExits\": {\"2\": 2, \"1\": 1}}\n",
    "            }\n",
    "\n",
    "\n",
    "vocabulary = { \"QUIT\": \"Q\",\n",
    "               \"NORTH\": \"N\",\n",
    "               \"SOUTH\": \"S\",\n",
    "               \"EAST\": \"E\",\n",
    "               \"WEST\": \"W\",\n",
    "               \"ROAD\": \"1\",\n",
    "               \"HILL\":\"2\",\n",
    "               \"BUILDING\": \"3\",\n",
    "               \"VALLEY\": \"4\",\n",
    "               \"FOREST\": \"5\"}\n",
    "\n",
    "loc = 1\n",
    "while True:\n",
    "    availableExits = \", \".join(locations[loc][\"exits\"].keys())\n",
    "    print(locations[loc][\"desc\"])\n",
    "    \n",
    "    if loc == 0:\n",
    "        break\n",
    "    else:\n",
    "        allExits = locations[loc][\"exits\"].copy()\n",
    "        allExits.update(locations[loc][\"namedExits\"])\n",
    "        \n",
    "    direction = input(\"Available exists are \" + availableExits + \" \").upper()\n",
    "    print()\n",
    "    \n",
    "    if len(direction) > 1:\n",
    "        words = direction.split()\n",
    "        for word in words:\n",
    "            if word in vocabulary:\n",
    "                direction = vocabulary[word]\n",
    "                break\n",
    "    if direction in locations[loc][\"exits\"]:\n",
    "        loc = locations[loc][\"exits\"][direction]\n",
    "    else:\n",
    "        print(\"you cannot go in that direction\")\n",
    "            \n",
    "    "
   ]
  },
  {
   "cell_type": "markdown",
   "metadata": {},
   "source": [
    "## SETS"
   ]
  },
  {
   "cell_type": "code",
   "execution_count": 12,
   "metadata": {},
   "outputs": [
    {
     "data": {
      "text/plain": [
       "{'cow', 'hen', 'sheep'}"
      ]
     },
     "execution_count": 12,
     "metadata": {},
     "output_type": "execute_result"
    }
   ],
   "source": [
    "farm_ani = {'sheep', 'cow', 'hen'}\n",
    "farm_ani"
   ]
  },
  {
   "cell_type": "code",
   "execution_count": 13,
   "metadata": {},
   "outputs": [
    {
     "name": "stdout",
     "output_type": "stream",
     "text": [
      "sheep\n",
      "hen\n",
      "cow\n"
     ]
    }
   ],
   "source": [
    "for ani in farm_ani:\n",
    "    print(ani)"
   ]
  },
  {
   "cell_type": "code",
   "execution_count": 14,
   "metadata": {},
   "outputs": [
    {
     "name": "stdout",
     "output_type": "stream",
     "text": [
      "========================================\n"
     ]
    }
   ],
   "source": [
    "print('=' * 40)"
   ]
  },
  {
   "cell_type": "code",
   "execution_count": 15,
   "metadata": {},
   "outputs": [
    {
     "data": {
      "text/plain": [
       "{'deer', 'kangaroo', 'lion', 'tiger'}"
      ]
     },
     "execution_count": 15,
     "metadata": {},
     "output_type": "execute_result"
    }
   ],
   "source": [
    "wild_ani = set(['lion','kangaroo','tiger','deer'])\n",
    "wild_ani"
   ]
  },
  {
   "cell_type": "code",
   "execution_count": 16,
   "metadata": {},
   "outputs": [
    {
     "data": {
      "text/plain": [
       "{'cow', 'hen', 'horse', 'sheep'}"
      ]
     },
     "execution_count": 16,
     "metadata": {},
     "output_type": "execute_result"
    }
   ],
   "source": [
    "farm_ani.add('horse')\n",
    "farm_ani"
   ]
  },
  {
   "cell_type": "code",
   "execution_count": 17,
   "metadata": {},
   "outputs": [
    {
     "data": {
      "text/plain": [
       "{'deer', 'kangaroo', 'lion', 'tiger', 'wild horse'}"
      ]
     },
     "execution_count": 17,
     "metadata": {},
     "output_type": "execute_result"
    }
   ],
   "source": [
    "wild_ani.add('wild horse')\n",
    "wild_ani"
   ]
  },
  {
   "cell_type": "code",
   "execution_count": 19,
   "metadata": {},
   "outputs": [
    {
     "data": {
      "text/plain": [
       "{'a'}"
      ]
     },
     "execution_count": 19,
     "metadata": {},
     "output_type": "execute_result"
    }
   ],
   "source": [
    "emptyset = set()\n",
    "emptyset2 = {}\n",
    "emptyset.add('a')\n",
    "emptyset"
   ]
  },
  {
   "cell_type": "markdown",
   "metadata": {},
   "source": []
  },
  {
   "cell_type": "code",
   "execution_count": 20,
   "metadata": {},
   "outputs": [
    {
     "ename": "AttributeError",
     "evalue": "'dict' object has no attribute 'add'",
     "output_type": "error",
     "traceback": [
      "\u001b[1;31m---------------------------------------------------------------------------\u001b[0m",
      "\u001b[1;31mAttributeError\u001b[0m                            Traceback (most recent call last)",
      "\u001b[1;32m<ipython-input-20-1518049d804e>\u001b[0m in \u001b[0;36m<module>\u001b[1;34m\u001b[0m\n\u001b[1;32m----> 1\u001b[1;33m \u001b[0memptyset2\u001b[0m\u001b[1;33m.\u001b[0m\u001b[0madd\u001b[0m\u001b[1;33m(\u001b[0m\u001b[1;34m'a'\u001b[0m\u001b[1;33m)\u001b[0m\u001b[1;33m\u001b[0m\u001b[1;33m\u001b[0m\u001b[0m\n\u001b[0m\u001b[0;32m      2\u001b[0m \u001b[0memptyset2\u001b[0m\u001b[1;33m\u001b[0m\u001b[1;33m\u001b[0m\u001b[0m\n",
      "\u001b[1;31mAttributeError\u001b[0m: 'dict' object has no attribute 'add'"
     ]
    }
   ],
   "source": [
    "emptyset2.add('a')\n",
    "emptyset2"
   ]
  },
  {
   "cell_type": "code",
   "execution_count": 21,
   "metadata": {},
   "outputs": [
    {
     "data": {
      "text/plain": [
       "{0, 2, 4, 6, 8, 10, 12, 14, 16, 18, 20, 22, 24, 26, 28, 30, 32, 34, 36, 38}"
      ]
     },
     "execution_count": 21,
     "metadata": {},
     "output_type": "execute_result"
    }
   ],
   "source": [
    "even = set(range(0, 40, 2))\n",
    "even"
   ]
  },
  {
   "cell_type": "code",
   "execution_count": 22,
   "metadata": {},
   "outputs": [
    {
     "data": {
      "text/plain": [
       "{4, 6, 7, 8}"
      ]
     },
     "execution_count": 22,
     "metadata": {},
     "output_type": "execute_result"
    }
   ],
   "source": [
    "squares_tuple = (4, 6, 7, 8)\n",
    "squares = set(squares_tuple)\n",
    "squares"
   ]
  },
  {
   "cell_type": "markdown",
   "metadata": {},
   "source": [
    "#union"
   ]
  },
  {
   "cell_type": "code",
   "execution_count": 23,
   "metadata": {},
   "outputs": [
    {
     "data": {
      "text/plain": [
       "{0, 2, 4, 6, 8, 10, 12, 14, 16, 18, 20, 22, 24, 26, 28, 30, 32, 34, 36, 38}"
      ]
     },
     "execution_count": 23,
     "metadata": {},
     "output_type": "execute_result"
    }
   ],
   "source": [
    "even = set(range(0, 40, 2))\n",
    "even"
   ]
  },
  {
   "cell_type": "code",
   "execution_count": 25,
   "metadata": {},
   "outputs": [
    {
     "name": "stdout",
     "output_type": "stream",
     "text": [
      "20\n"
     ]
    }
   ],
   "source": [
    "print(len(even))"
   ]
  },
  {
   "cell_type": "code",
   "execution_count": 26,
   "metadata": {},
   "outputs": [
    {
     "data": {
      "text/plain": [
       "5"
      ]
     },
     "execution_count": 26,
     "metadata": {},
     "output_type": "execute_result"
    }
   ],
   "source": [
    "s_t = (4,5,6,7,8)\n",
    "s = set(s_t)\n",
    "len(s)"
   ]
  },
  {
   "cell_type": "code",
   "execution_count": 27,
   "metadata": {},
   "outputs": [
    {
     "data": {
      "text/plain": [
       "{0,\n",
       " 2,\n",
       " 4,\n",
       " 5,\n",
       " 6,\n",
       " 7,\n",
       " 8,\n",
       " 10,\n",
       " 12,\n",
       " 14,\n",
       " 16,\n",
       " 18,\n",
       " 20,\n",
       " 22,\n",
       " 24,\n",
       " 26,\n",
       " 28,\n",
       " 30,\n",
       " 32,\n",
       " 34,\n",
       " 36,\n",
       " 38}"
      ]
     },
     "execution_count": 27,
     "metadata": {},
     "output_type": "execute_result"
    }
   ],
   "source": [
    "even.union(s)\n"
   ]
  },
  {
   "cell_type": "code",
   "execution_count": 28,
   "metadata": {},
   "outputs": [
    {
     "data": {
      "text/plain": [
       "22"
      ]
     },
     "execution_count": 28,
     "metadata": {},
     "output_type": "execute_result"
    }
   ],
   "source": [
    "len(even.union(s))"
   ]
  },
  {
   "cell_type": "code",
   "execution_count": 29,
   "metadata": {},
   "outputs": [
    {
     "data": {
      "text/plain": [
       "{4, 6, 8}"
      ]
     },
     "execution_count": 29,
     "metadata": {},
     "output_type": "execute_result"
    }
   ],
   "source": [
    "even.intersection(s)"
   ]
  },
  {
   "cell_type": "code",
   "execution_count": 30,
   "metadata": {},
   "outputs": [
    {
     "data": {
      "text/plain": [
       "{4, 6, 8}"
      ]
     },
     "execution_count": 30,
     "metadata": {},
     "output_type": "execute_result"
    }
   ],
   "source": [
    "even & s"
   ]
  },
  {
   "cell_type": "code",
   "execution_count": 31,
   "metadata": {},
   "outputs": [
    {
     "data": {
      "text/plain": [
       "{4, 6, 8}"
      ]
     },
     "execution_count": 31,
     "metadata": {},
     "output_type": "execute_result"
    }
   ],
   "source": [
    "s.intersection(even)"
   ]
  },
  {
   "cell_type": "code",
   "execution_count": 36,
   "metadata": {},
   "outputs": [
    {
     "data": {
      "text/plain": [
       "{0, 5, 10, 15, 20, 25, 30, 35, 40, 45}"
      ]
     },
     "execution_count": 36,
     "metadata": {},
     "output_type": "execute_result"
    }
   ],
   "source": [
    "even = set(range(0, 50, 5))\n",
    "even"
   ]
  },
  {
   "cell_type": "code",
   "execution_count": 37,
   "metadata": {},
   "outputs": [
    {
     "data": {
      "text/plain": [
       "[0, 5, 10, 15, 20, 25, 30, 35, 40, 45]"
      ]
     },
     "execution_count": 37,
     "metadata": {},
     "output_type": "execute_result"
    }
   ],
   "source": [
    "sorted(even)"
   ]
  },
  {
   "cell_type": "code",
   "execution_count": 38,
   "metadata": {},
   "outputs": [
    {
     "data": {
      "text/plain": [
       "[5, 10, 11, 15, 25, 50, 55]"
      ]
     },
     "execution_count": 38,
     "metadata": {},
     "output_type": "execute_result"
    }
   ],
   "source": [
    "s_t = (5, 10, 11, 15, 25, 55, 50)\n",
    "sorted(s_t)"
   ]
  },
  {
   "cell_type": "code",
   "execution_count": 39,
   "metadata": {},
   "outputs": [
    {
     "data": {
      "text/plain": [
       "[5, 10, 11, 15, 25, 50, 55]"
      ]
     },
     "execution_count": 39,
     "metadata": {},
     "output_type": "execute_result"
    }
   ],
   "source": [
    "sorted(s_t)"
   ]
  },
  {
   "cell_type": "code",
   "execution_count": 40,
   "metadata": {},
   "outputs": [
    {
     "data": {
      "text/plain": [
       "[0, 20, 30, 35, 40, 45]"
      ]
     },
     "execution_count": 40,
     "metadata": {},
     "output_type": "execute_result"
    }
   ],
   "source": [
    "sorted(even.difference(s_t))"
   ]
  },
  {
   "cell_type": "code",
   "execution_count": 41,
   "metadata": {},
   "outputs": [
    {
     "ename": "AttributeError",
     "evalue": "'tuple' object has no attribute 'difference'",
     "output_type": "error",
     "traceback": [
      "\u001b[1;31m---------------------------------------------------------------------------\u001b[0m",
      "\u001b[1;31mAttributeError\u001b[0m                            Traceback (most recent call last)",
      "\u001b[1;32m<ipython-input-41-029f0d51cda5>\u001b[0m in \u001b[0;36m<module>\u001b[1;34m\u001b[0m\n\u001b[1;32m----> 1\u001b[1;33m \u001b[0msorted\u001b[0m\u001b[1;33m(\u001b[0m\u001b[0ms_t\u001b[0m\u001b[1;33m.\u001b[0m\u001b[0mdifference\u001b[0m\u001b[1;33m(\u001b[0m\u001b[0meven\u001b[0m\u001b[1;33m)\u001b[0m\u001b[1;33m)\u001b[0m\u001b[1;33m\u001b[0m\u001b[1;33m\u001b[0m\u001b[0m\n\u001b[0m",
      "\u001b[1;31mAttributeError\u001b[0m: 'tuple' object has no attribute 'difference'"
     ]
    }
   ],
   "source": [
    "sorted(s_t.difference(even))"
   ]
  },
  {
   "cell_type": "code",
   "execution_count": 42,
   "metadata": {},
   "outputs": [
    {
     "ename": "TypeError",
     "evalue": "unsupported operand type(s) for -: 'tuple' and 'set'",
     "output_type": "error",
     "traceback": [
      "\u001b[1;31m---------------------------------------------------------------------------\u001b[0m",
      "\u001b[1;31mTypeError\u001b[0m                                 Traceback (most recent call last)",
      "\u001b[1;32m<ipython-input-42-de29ccc1c47d>\u001b[0m in \u001b[0;36m<module>\u001b[1;34m\u001b[0m\n\u001b[1;32m----> 1\u001b[1;33m \u001b[0ms_t\u001b[0m \u001b[1;33m-\u001b[0m \u001b[0meven\u001b[0m\u001b[1;33m\u001b[0m\u001b[1;33m\u001b[0m\u001b[0m\n\u001b[0m",
      "\u001b[1;31mTypeError\u001b[0m: unsupported operand type(s) for -: 'tuple' and 'set'"
     ]
    }
   ],
   "source": [
    "s_t - even"
   ]
  },
  {
   "cell_type": "code",
   "execution_count": 43,
   "metadata": {},
   "outputs": [
    {
     "data": {
      "text/plain": [
       "[0, 5, 10, 15, 20, 25, 30, 35, 40, 45]"
      ]
     },
     "execution_count": 43,
     "metadata": {},
     "output_type": "execute_result"
    }
   ],
   "source": [
    "sorted(even)"
   ]
  },
  {
   "cell_type": "code",
   "execution_count": 48,
   "metadata": {},
   "outputs": [
    {
     "data": {
      "text/plain": [
       "{5, 10, 11, 15, 25, 50, 55}"
      ]
     },
     "execution_count": 48,
     "metadata": {},
     "output_type": "execute_result"
    }
   ],
   "source": [
    "s_t\n",
    "square = set(s_t)\n",
    "square"
   ]
  },
  {
   "cell_type": "code",
   "execution_count": 49,
   "metadata": {},
   "outputs": [
    {
     "data": {
      "text/plain": [
       "{5, 10, 11, 15, 25, 50, 55}"
      ]
     },
     "execution_count": 49,
     "metadata": {},
     "output_type": "execute_result"
    }
   ],
   "source": [
    "even.difference_update(s_t)\n",
    "square"
   ]
  },
  {
   "cell_type": "code",
   "execution_count": 47,
   "metadata": {},
   "outputs": [
    {
     "data": {
      "text/plain": [
       "{0, 20, 30, 35, 40, 45}"
      ]
     },
     "execution_count": 47,
     "metadata": {},
     "output_type": "execute_result"
    }
   ],
   "source": [
    "even"
   ]
  },
  {
   "cell_type": "code",
   "execution_count": 50,
   "metadata": {},
   "outputs": [
    {
     "data": {
      "text/plain": [
       "{0, 5, 10, 11, 15, 20, 25, 30, 35, 40, 45, 50, 55}"
      ]
     },
     "execution_count": 50,
     "metadata": {},
     "output_type": "execute_result"
    }
   ],
   "source": [
    "even.symmetric_difference(square)"
   ]
  },
  {
   "cell_type": "code",
   "execution_count": 51,
   "metadata": {},
   "outputs": [
    {
     "data": {
      "text/plain": [
       "{0, 5, 10, 11, 15, 20, 25, 30, 35, 40, 45, 50, 55}"
      ]
     },
     "execution_count": 51,
     "metadata": {},
     "output_type": "execute_result"
    }
   ],
   "source": [
    "square.symmetric_difference(even)"
   ]
  },
  {
   "cell_type": "code",
   "execution_count": 58,
   "metadata": {},
   "outputs": [],
   "source": [
    "#to remove an item use discard and remove\n",
    "#but use remove coz the discard does not give error\n"
   ]
  },
  {
   "cell_type": "code",
   "execution_count": 54,
   "metadata": {},
   "outputs": [
    {
     "data": {
      "text/plain": [
       "{5, 10, 11, 25, 50, 55}"
      ]
     },
     "execution_count": 54,
     "metadata": {},
     "output_type": "execute_result"
    }
   ],
   "source": [
    "square.discard(15)\n",
    "square"
   ]
  },
  {
   "cell_type": "code",
   "execution_count": 55,
   "metadata": {},
   "outputs": [
    {
     "data": {
      "text/plain": [
       "{10, 11, 25, 50, 55}"
      ]
     },
     "execution_count": 55,
     "metadata": {},
     "output_type": "execute_result"
    }
   ],
   "source": [
    "square.remove(5)\n",
    "square"
   ]
  },
  {
   "cell_type": "code",
   "execution_count": 56,
   "metadata": {},
   "outputs": [
    {
     "ename": "KeyError",
     "evalue": "8",
     "output_type": "error",
     "traceback": [
      "\u001b[1;31m---------------------------------------------------------------------------\u001b[0m",
      "\u001b[1;31mKeyError\u001b[0m                                  Traceback (most recent call last)",
      "\u001b[1;32m<ipython-input-56-b861d556b823>\u001b[0m in \u001b[0;36m<module>\u001b[1;34m\u001b[0m\n\u001b[1;32m----> 1\u001b[1;33m \u001b[0msquare\u001b[0m\u001b[1;33m.\u001b[0m\u001b[0mremove\u001b[0m\u001b[1;33m(\u001b[0m\u001b[1;36m8\u001b[0m\u001b[1;33m)\u001b[0m\u001b[1;33m\u001b[0m\u001b[1;33m\u001b[0m\u001b[0m\n\u001b[0m\u001b[0;32m      2\u001b[0m \u001b[0msquare\u001b[0m\u001b[1;33m\u001b[0m\u001b[1;33m\u001b[0m\u001b[0m\n",
      "\u001b[1;31mKeyError\u001b[0m: 8"
     ]
    }
   ],
   "source": [
    "square.remove(8)\n",
    "square"
   ]
  },
  {
   "cell_type": "code",
   "execution_count": 57,
   "metadata": {},
   "outputs": [
    {
     "data": {
      "text/plain": [
       "{10, 11, 25, 50, 55}"
      ]
     },
     "execution_count": 57,
     "metadata": {},
     "output_type": "execute_result"
    }
   ],
   "source": [
    "square.discard(8)\n",
    "square"
   ]
  },
  {
   "cell_type": "code",
   "execution_count": 59,
   "metadata": {},
   "outputs": [
    {
     "name": "stdout",
     "output_type": "stream",
     "text": [
      "{0, 32, 2, 34, 4, 36, 6, 38, 8, 10, 12, 14, 16, 18, 20, 22, 24, 26, 28, 30}\n",
      "{8, 10, 4, 6}\n"
     ]
    }
   ],
   "source": [
    "even = set(range(0, 40, 2))\n",
    "print(even)\n",
    "squares_tuple = (4, 6, 8, 10)\n",
    "squares = set(squares_tuple)\n",
    "print(squares)"
   ]
  },
  {
   "cell_type": "code",
   "execution_count": 63,
   "metadata": {},
   "outputs": [
    {
     "name": "stdout",
     "output_type": "stream",
     "text": [
      "squares is a subset of even\n"
     ]
    }
   ],
   "source": [
    "if squares.issubset(even):\n",
    "    print(\"squares is a subset of even\")"
   ]
  },
  {
   "cell_type": "code",
   "execution_count": 65,
   "metadata": {},
   "outputs": [
    {
     "name": "stdout",
     "output_type": "stream",
     "text": [
      "superset\n"
     ]
    }
   ],
   "source": [
    "if even.issuperset(squares):\n",
    "    print(\"superset\")\n"
   ]
  },
  {
   "cell_type": "markdown",
   "metadata": {},
   "source": [
    "## CHALLENGE TIME!"
   ]
  },
  {
   "cell_type": "markdown",
   "metadata": {},
   "source": [
    "Create a program that takes some text and returns a list of all the charactrers in the text that are not vowels, sorted in the alphabetical prder. you can either enter the text from the keyboard or initialize a string variable with the string"
   ]
  },
  {
   "cell_type": "code",
   "execution_count": 71,
   "metadata": {},
   "outputs": [
    {
     "name": "stdout",
     "output_type": "stream",
     "text": [
      "finalSet :  {'p', 'v', ' ', 'm', 'l', 'n', 's', 't', 'y', 'g', 'h', 'f'}\n",
      "Final List :  [' ', 'f', 'g', 'h', 'l', 'm', 'n', 'p', 's', 't', 'v', 'y']\n"
     ]
    }
   ],
   "source": [
    "sample_text = \"python is my fav lang\"\n",
    "vowel = frozenset(\"aeiou\")\n",
    "# alternatively\n",
    "#vowel = {\"a\", \"e\",\"i\"...}\n",
    "finalset = set(sample_text).difference(vowel)\n",
    "print(\"finalSet : \", finalset)\n",
    "finallist = sorted(finalset)\n",
    "print(\"Final List : \", finallist)\n",
    "# for char in (sample_text):\n",
    "#     if char != vowel:\n",
    "#         print(char)       "
   ]
  },
  {
   "cell_type": "markdown",
   "metadata": {},
   "source": [
    "## SECTION 10\n",
    "## INPUT AND OUTPUT(I/O) IN PYTHON\n",
    "#pickel and self"
   ]
  },
  {
   "cell_type": "code",
   "execution_count": 9,
   "metadata": {},
   "outputs": [
    {
     "name": "stdout",
     "output_type": "stream",
     "text": [
      "hey how are you doing?\n",
      "\n",
      "i how you are doing well\n",
      "\n",
      "any way i love you forevr and always\n",
      "\n",
      "\n",
      "\n",
      "Trees are the kindest things I know,\n",
      "\n",
      "They do not harm, they simply grow.\n",
      "\n",
      "And spread a shade for sleepy cows,\n",
      "\n",
      "And gather birds among their boughs.\n",
      "\n",
      "They give us fruit, in leaves above,\n",
      "\n",
      "And wood to make our houses of,\n",
      "\n",
      "And leaves to burn on Hallowe’en,\n",
      "\n",
      "And in the Spring new buds of green.\n",
      "\n",
      "They are the first when day’s begun\n",
      "\n",
      "To touch the beams of morning sun.\n",
      "\n",
      "They are the last to hold the light,\n",
      "\n",
      "When evening changes into night.\n",
      "\n",
      "And when a moon floats on the sky\n",
      "\n",
      "They hum a drowsy lullaby\n",
      "\n",
      "Of sleepy children long ago…\n",
      "\n",
      "Trees are the kindest things I know.\n",
      "\n",
      " - Harry Behn\n"
     ]
    }
   ],
   "source": [
    "jabber = open(\"C:\\\\Users\\Dee1\\Desktop\\Jabbers.txt\")\n",
    "for line in jabber:\n",
    "    print(line)"
   ]
  },
  {
   "cell_type": "code",
   "execution_count": 5,
   "metadata": {},
   "outputs": [],
   "source": [
    "jabber.close()"
   ]
  },
  {
   "cell_type": "code",
   "execution_count": null,
   "metadata": {},
   "outputs": [],
   "source": []
  },
  {
   "cell_type": "code",
   "execution_count": null,
   "metadata": {},
   "outputs": [],
   "source": []
  }
 ],
 "metadata": {
  "kernelspec": {
   "display_name": "Python 3",
   "language": "python",
   "name": "python3"
  },
  "language_info": {
   "codemirror_mode": {
    "name": "ipython",
    "version": 3
   },
   "file_extension": ".py",
   "mimetype": "text/x-python",
   "name": "python",
   "nbconvert_exporter": "python",
   "pygments_lexer": "ipython3",
   "version": "3.6.8"
  }
 },
 "nbformat": 4,
 "nbformat_minor": 2
}
